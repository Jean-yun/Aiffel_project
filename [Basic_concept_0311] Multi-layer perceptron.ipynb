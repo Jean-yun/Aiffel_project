{
 "cells": [
  {
   "cell_type": "code",
   "execution_count": 1,
   "id": "33d83509",
   "metadata": {},
   "outputs": [],
   "source": [
    "import sys\n",
    "import tensorflow as tf\n",
    "import numpy as np"
   ]
  },
  {
   "cell_type": "markdown",
   "id": "71ea5d62",
   "metadata": {},
   "source": [
    "# MNIST 데이터 살펴보기"
   ]
  },
  {
   "cell_type": "code",
   "execution_count": 2,
   "id": "e2470535",
   "metadata": {},
   "outputs": [
    {
     "name": "stdout",
     "output_type": "stream",
     "text": [
      "Downloading data from https://storage.googleapis.com/tensorflow/tf-keras-datasets/mnist.npz\n",
      "11493376/11490434 [==============================] - 0s 0us/step\n",
      "11501568/11490434 [==============================] - 0s 0us/step\n",
      "(60000, 28, 28)\n",
      "(60000,)\n",
      "학습셋 이미지 수 : 60000 개\n",
      "테스트셋 이미지 수 : 10000 개\n"
     ]
    }
   ],
   "source": [
    "# MNIST 데이터셋 불러오기\n",
    "(X_train, Y_train), (X_test, Y_test) = tf.keras.datasets.mnist.load_data()\n",
    "\n",
    "# shape 확인하기\n",
    "print(X_train.shape) # 28 x 28의 이미지가 60,000장\n",
    "print(Y_train.shape) ## [ 5, 1, 2, 3, 4, 4,   .... ]\n",
    "print(\"학습셋 이미지 수 : %d 개\" % (X_train.shape[0]))\n",
    "print(\"테스트셋 이미지 수 : %d 개\" % (X_test.shape[0]))"
   ]
  },
  {
   "cell_type": "code",
   "execution_count": 3,
   "id": "1da3f5f0",
   "metadata": {},
   "outputs": [
    {
     "name": "stdout",
     "output_type": "stream",
     "text": [
      "5\n"
     ]
    },
    {
     "data": {
      "image/png": "[encoded data removed]",
      "text/plain": [
       "<Figure size 432x288 with 1 Axes>"
      ]
     },
     "metadata": {
      "needs_background": "light"
     },
     "output_type": "display_data"
    }
   ],
   "source": [
    "# MNIST 데이터를 시각화하기 \n",
    "import matplotlib.pyplot as plt\n",
    "print(Y_train[0])\n",
    "plt.imshow(X_train[0], cmap='Greys') # 흑백 이미지로 확인\n",
    "plt.show()"
   ]
  },
  {
   "cell_type": "code",
   "execution_count": 4,
   "id": "7bae67da",
   "metadata": {},
   "outputs": [
    {
     "name": "stdout",
     "output_type": "stream",
     "text": [
      "0\t0\t0\t0\t0\t0\t0\t0\t0\t0\t0\t0\t0\t0\t0\t0\t0\t0\t0\t0\t0\t0\t0\t0\t0\t0\t0\t0\t\n",
      "0\t0\t0\t0\t0\t0\t0\t0\t0\t0\t0\t0\t0\t0\t0\t0\t0\t0\t0\t0\t0\t0\t0\t0\t0\t0\t0\t0\t\n",
      "0\t0\t0\t0\t0\t0\t0\t0\t0\t0\t0\t0\t0\t0\t0\t0\t0\t0\t0\t0\t0\t0\t0\t0\t0\t0\t0\t0\t\n",
      "0\t0\t0\t0\t0\t0\t0\t0\t0\t0\t0\t0\t0\t0\t0\t0\t0\t0\t0\t0\t0\t0\t0\t0\t0\t0\t0\t0\t\n",
      "0\t0\t0\t0\t0\t0\t0\t0\t0\t0\t0\t0\t0\t0\t0\t0\t0\t0\t0\t0\t0\t0\t0\t0\t0\t0\t0\t0\t\n",
      "0\t0\t0\t0\t0\t0\t0\t0\t0\t0\t0\t0\t3\t18\t18\t18\t126\t136\t175\t26\t166\t255\t247\t127\t0\t0\t0\t0\t\n",
      "0\t0\t0\t0\t0\t0\t0\t0\t30\t36\t94\t154\t170\t253\t253\t253\t253\t253\t225\t172\t253\t242\t195\t64\t0\t0\t0\t0\t\n",
      "0\t0\t0\t0\t0\t0\t0\t49\t238\t253\t253\t253\t253\t253\t253\t253\t253\t251\t93\t82\t82\t56\t39\t0\t0\t0\t0\t0\t\n",
      "0\t0\t0\t0\t0\t0\t0\t18\t219\t253\t253\t253\t253\t253\t198\t182\t247\t241\t0\t0\t0\t0\t0\t0\t0\t0\t0\t0\t\n",
      "0\t0\t0\t0\t0\t0\t0\t0\t80\t156\t107\t253\t253\t205\t11\t0\t43\t154\t0\t0\t0\t0\t0\t0\t0\t0\t0\t0\t\n",
      "0\t0\t0\t0\t0\t0\t0\t0\t0\t14\t1\t154\t253\t90\t0\t0\t0\t0\t0\t0\t0\t0\t0\t0\t0\t0\t0\t0\t\n",
      "0\t0\t0\t0\t0\t0\t0\t0\t0\t0\t0\t139\t253\t190\t2\t0\t0\t0\t0\t0\t0\t0\t0\t0\t0\t0\t0\t0\t\n",
      "0\t0\t0\t0\t0\t0\t0\t0\t0\t0\t0\t11\t190\t253\t70\t0\t0\t0\t0\t0\t0\t0\t0\t0\t0\t0\t0\t0\t\n",
      "0\t0\t0\t0\t0\t0\t0\t0\t0\t0\t0\t0\t35\t241\t225\t160\t108\t1\t0\t0\t0\t0\t0\t0\t0\t0\t0\t0\t\n",
      "0\t0\t0\t0\t0\t0\t0\t0\t0\t0\t0\t0\t0\t81\t240\t253\t253\t119\t25\t0\t0\t0\t0\t0\t0\t0\t0\t0\t\n",
      "0\t0\t0\t0\t0\t0\t0\t0\t0\t0\t0\t0\t0\t0\t45\t186\t253\t253\t150\t27\t0\t0\t0\t0\t0\t0\t0\t0\t\n",
      "0\t0\t0\t0\t0\t0\t0\t0\t0\t0\t0\t0\t0\t0\t0\t16\t93\t252\t253\t187\t0\t0\t0\t0\t0\t0\t0\t0\t\n",
      "0\t0\t0\t0\t0\t0\t0\t0\t0\t0\t0\t0\t0\t0\t0\t0\t0\t249\t253\t249\t64\t0\t0\t0\t0\t0\t0\t0\t\n",
      "0\t0\t0\t0\t0\t0\t0\t0\t0\t0\t0\t0\t0\t0\t46\t130\t183\t253\t253\t207\t2\t0\t0\t0\t0\t0\t0\t0\t\n",
      "0\t0\t0\t0\t0\t0\t0\t0\t0\t0\t0\t0\t39\t148\t229\t253\t253\t253\t250\t182\t0\t0\t0\t0\t0\t0\t0\t0\t\n",
      "0\t0\t0\t0\t0\t0\t0\t0\t0\t0\t24\t114\t221\t253\t253\t253\t253\t201\t78\t0\t0\t0\t0\t0\t0\t0\t0\t0\t\n",
      "0\t0\t0\t0\t0\t0\t0\t0\t23\t66\t213\t253\t253\t253\t253\t198\t81\t2\t0\t0\t0\t0\t0\t0\t0\t0\t0\t0\t\n",
      "0\t0\t0\t0\t0\t0\t18\t171\t219\t253\t253\t253\t253\t195\t80\t9\t0\t0\t0\t0\t0\t0\t0\t0\t0\t0\t0\t0\t\n",
      "0\t0\t0\t0\t55\t172\t226\t253\t253\t253\t253\t244\t133\t11\t0\t0\t0\t0\t0\t0\t0\t0\t0\t0\t0\t0\t0\t0\t\n",
      "0\t0\t0\t0\t136\t253\t253\t253\t212\t135\t132\t16\t0\t0\t0\t0\t0\t0\t0\t0\t0\t0\t0\t0\t0\t0\t0\t0\t\n",
      "0\t0\t0\t0\t0\t0\t0\t0\t0\t0\t0\t0\t0\t0\t0\t0\t0\t0\t0\t0\t0\t0\t0\t0\t0\t0\t0\t0\t\n",
      "0\t0\t0\t0\t0\t0\t0\t0\t0\t0\t0\t0\t0\t0\t0\t0\t0\t0\t0\t0\t0\t0\t0\t0\t0\t0\t0\t0\t\n",
      "0\t0\t0\t0\t0\t0\t0\t0\t0\t0\t0\t0\t0\t0\t0\t0\t0\t0\t0\t0\t0\t0\t0\t0\t0\t0\t0\t0\t\n"
     ]
    }
   ],
   "source": [
    "# 데이터를 직접 들여다보기\n",
    "for x in X_train[0]:\n",
    "    for i in x:\n",
    "        sys.stdout.write('%d\\t' % i)\n",
    "    sys.stdout.write('\\n')"
   ]
  },
  {
   "cell_type": "markdown",
   "id": "587bb909",
   "metadata": {},
   "source": [
    "# MLP 구조 만들기\n",
    "- MLP(Multi Layer Perceptron)의 입력 데이터는 기본적으로 벡터 형태입니다. X_train은 28 x 28 크기의 MNIST 데이터 60,000개가 모여 있는 배열이기 때문에, 각각의 데이터를 (28, 28) 크기의 행렬(2차원)에서 길이가 28x28=784인 벡터(1차원)로 변형시켜야 합니다. X_test에 포함된 데이터도 reshape() 함수를 사용하여 크기를 바꿔줍시다."
   ]
  },
  {
   "cell_type": "code",
   "execution_count": 5,
   "id": "59cbb658",
   "metadata": {},
   "outputs": [],
   "source": [
    "# MLP 구조에 적절한 input의 형태로 변형하기\n",
    "## reshape()을 사용하여 2차원의 데이터를 1차원으로 변형\n",
    "## 1차원으로 변형함과 동시에 Normalization\n",
    "X_train = X_train.reshape(X_train.shape[0], 784).astype('float32') # 28 x 28= 784\n",
    "X_test = X_test.reshape(X_test.shape[0], 784).astype('float32')"
   ]
  },
  {
   "cell_type": "code",
   "execution_count": 6,
   "id": "cf0c46d6",
   "metadata": {},
   "outputs": [
    {
     "data": {
      "text/plain": [
       "((60000, 784), (10000, 784))"
      ]
     },
     "execution_count": 6,
     "metadata": {},
     "output_type": "execute_result"
    }
   ],
   "source": [
    "# Q. reshape한 X_train과 X_test의 shape을 다시 확인해 보세요.\n",
    "X_train.shape, X_test.shape"
   ]
  },
  {
   "cell_type": "markdown",
   "id": "86c008df",
   "metadata": {},
   "source": [
    "* 이 값들을 분류 문제에 맞게 one-hot vector로 만들어줍시다. Y_train, Y_test의 shape을 다시 보면 길이가 10인 벡터 60,000개(test는 10,000개)가 묶인 형태로 바뀐 것을 확인할 수 있습니다."
   ]
  },
  {
   "cell_type": "code",
   "execution_count": 7,
   "id": "2da339ae",
   "metadata": {},
   "outputs": [],
   "source": [
    "# Label 값을 One-hot encoding 하기 \n",
    "# Multi-Class Classfication이므로 keras.utils.to_categorical을 사용\n",
    "Y_train = tf.keras.utils.to_categorical(Y_train)\n",
    "Y_test = tf.keras.utils.to_categorical(Y_test)"
   ]
  },
  {
   "cell_type": "code",
   "execution_count": 8,
   "id": "18d09ce6",
   "metadata": {},
   "outputs": [
    {
     "name": "stdout",
     "output_type": "stream",
     "text": [
      "(60000, 10)\n",
      "(10000, 10)\n",
      "[0. 0. 0. 0. 0. 1. 0. 0. 0. 0.]\n"
     ]
    }
   ],
   "source": [
    "print(Y_train.shape)\n",
    "print(Y_test.shape)\n",
    "print(Y_train[0])"
   ]
  },
  {
   "cell_type": "markdown",
   "id": "6d463e00",
   "metadata": {},
   "source": [
    "# Functional API로 MLP모델 만들기\n",
    "- 이 경우에는 10개의 class를 분류 (multi-class classification)하는 것"
   ]
  },
  {
   "cell_type": "code",
   "execution_count": 9,
   "id": "ee39996e",
   "metadata": {},
   "outputs": [
    {
     "name": "stdout",
     "output_type": "stream",
     "text": [
      "Model: \"model\"\n",
      "_________________________________________________________________\n",
      "Layer (type)                 Output Shape              Param #   \n",
      "=================================================================\n",
      "input_1 (InputLayer)         [(None, 784)]             0         \n",
      "_________________________________________________________________\n",
      "dense (Dense)                (None, 512)               401920    \n",
      "_________________________________________________________________\n",
      "dense_1 (Dense)              (None, 512)               262656    \n",
      "_________________________________________________________________\n",
      "dense_2 (Dense)              (None, 10)                5130      \n",
      "=================================================================\n",
      "Total params: 669,706\n",
      "Trainable params: 669,706\n",
      "Non-trainable params: 0\n",
      "_________________________________________________________________\n"
     ]
    }
   ],
   "source": [
    "# 모델 설계하기 \n",
    "input_layer = tf.keras.layers.Input(shape=(784,)) # input layer, input의 사이즈에 맞게 shape을 지정하는 것이 중요\n",
    "x = tf.keras.layers.Dense(512, activation='relu')(input_layer) # hidden layer 1, 512개의 perceptron으로 구성된 fully connted layer, activation 함수는 relu\n",
    "x = tf.keras.layers.Dense(512, activation='relu')(x) # hidden layer 2\n",
    "\n",
    "# 분류해야 하는 class 0~9 (10개) -> 따라서 최종 layer의 perceptron은 10개\n",
    "out_layer= tf.keras.layers.Dense(10, activation='softmax')(x)\n",
    "\n",
    "model = tf.keras.Model(inputs=[input_layer], outputs=[out_layer])\n",
    "model.summary()"
   ]
  },
  {
   "cell_type": "code",
   "execution_count": 10,
   "id": "9dd4e7d9",
   "metadata": {},
   "outputs": [],
   "source": [
    "loss=tf.keras.losses.categorical_crossentropy\n",
    "optimizer = tf.keras.optimizers.Adam(learning_rate = 0.001)\n",
    "metric=tf.keras.metrics.categorical_accuracy\n",
    "model.compile(loss = loss,\n",
    "              optimizer = optimizer,\n",
    "              metrics = [metric])"
   ]
  },
  {
   "cell_type": "markdown",
   "id": "932a9e58",
   "metadata": {},
   "source": [
    "# Training\n",
    "- verbose 매개변수는 fit() 함수의 학습 진행 상황을 출력할 때 사용됩니다. 이 매개변수는 세 가지 값 중 하나를 가질 수 있습니다:\n",
    "    - verbose=0: 아무런 출력이 없습니다. 학습 과정이 완료될 때까지 아무것도 표시되지 않습니다.\n",
    "    - verbose=1: 각 에포크마다 진행 상황이 출력됩니다. 예를 들어, 각 에포크의 진행률과 손실값이 출력됩니다.\n",
    "    - verbose=2: 각 에포크마다 한 줄의 출력만 표시됩니다. 출력되는 내용은 verbose=1과 동일하지만, 더 간결하게 표시됩니다."
   ]
  },
  {
   "cell_type": "code",
   "execution_count": 11,
   "id": "660779a5",
   "metadata": {},
   "outputs": [
    {
     "name": "stdout",
     "output_type": "stream",
     "text": [
      "Epoch 1/30\n",
      "48/48 [==============================] - 11s 12ms/step - loss: 15.2235 - categorical_accuracy: 0.7873 - val_loss: 1.2773 - val_categorical_accuracy: 0.9128\n",
      "Epoch 2/30\n",
      "48/48 [==============================] - 0s 5ms/step - loss: 0.7895 - categorical_accuracy: 0.9290 - val_loss: 0.7441 - val_categorical_accuracy: 0.9318\n",
      "Epoch 3/30\n",
      "48/48 [==============================] - 0s 5ms/step - loss: 0.3887 - categorical_accuracy: 0.9517 - val_loss: 0.6076 - val_categorical_accuracy: 0.9393\n",
      "Epoch 4/30\n",
      "48/48 [==============================] - 0s 5ms/step - loss: 0.2097 - categorical_accuracy: 0.9677 - val_loss: 0.5344 - val_categorical_accuracy: 0.9422\n",
      "Epoch 5/30\n",
      "48/48 [==============================] - 0s 5ms/step - loss: 0.1159 - categorical_accuracy: 0.9776 - val_loss: 0.5038 - val_categorical_accuracy: 0.9454\n",
      "Epoch 6/30\n",
      "48/48 [==============================] - 0s 4ms/step - loss: 0.0625 - categorical_accuracy: 0.9871 - val_loss: 0.4883 - val_categorical_accuracy: 0.9484\n",
      "Epoch 7/30\n",
      "48/48 [==============================] - 0s 5ms/step - loss: 0.0331 - categorical_accuracy: 0.9923 - val_loss: 0.4790 - val_categorical_accuracy: 0.9481\n",
      "Epoch 8/30\n",
      "48/48 [==============================] - 0s 5ms/step - loss: 0.0178 - categorical_accuracy: 0.9954 - val_loss: 0.4668 - val_categorical_accuracy: 0.9489\n",
      "Epoch 9/30\n",
      "48/48 [==============================] - 0s 5ms/step - loss: 0.0100 - categorical_accuracy: 0.9976 - val_loss: 0.4673 - val_categorical_accuracy: 0.9505\n",
      "Epoch 10/30\n",
      "48/48 [==============================] - 0s 5ms/step - loss: 0.0046 - categorical_accuracy: 0.9990 - val_loss: 0.4567 - val_categorical_accuracy: 0.9512\n",
      "Epoch 11/30\n",
      "48/48 [==============================] - 0s 5ms/step - loss: 0.0026 - categorical_accuracy: 0.9996 - val_loss: 0.4503 - val_categorical_accuracy: 0.9518\n",
      "Epoch 12/30\n",
      "48/48 [==============================] - 0s 4ms/step - loss: 0.0014 - categorical_accuracy: 0.9999 - val_loss: 0.4522 - val_categorical_accuracy: 0.9522\n",
      "Epoch 13/30\n",
      "48/48 [==============================] - 0s 4ms/step - loss: 8.2563e-04 - categorical_accuracy: 1.0000 - val_loss: 0.4508 - val_categorical_accuracy: 0.9526\n",
      "Epoch 14/30\n",
      "48/48 [==============================] - 0s 4ms/step - loss: 5.8478e-04 - categorical_accuracy: 1.0000 - val_loss: 0.4499 - val_categorical_accuracy: 0.9525\n",
      "Epoch 15/30\n",
      "48/48 [==============================] - 0s 4ms/step - loss: 4.8389e-04 - categorical_accuracy: 1.0000 - val_loss: 0.4494 - val_categorical_accuracy: 0.9528\n",
      "Epoch 16/30\n",
      "48/48 [==============================] - 0s 5ms/step - loss: 4.0535e-04 - categorical_accuracy: 1.0000 - val_loss: 0.4502 - val_categorical_accuracy: 0.9525\n",
      "Epoch 17/30\n",
      "48/48 [==============================] - 0s 4ms/step - loss: 3.6733e-04 - categorical_accuracy: 1.0000 - val_loss: 0.4499 - val_categorical_accuracy: 0.9527\n",
      "Epoch 18/30\n",
      "48/48 [==============================] - 0s 4ms/step - loss: 3.3206e-04 - categorical_accuracy: 1.0000 - val_loss: 0.4498 - val_categorical_accuracy: 0.9532\n",
      "Epoch 19/30\n",
      "48/48 [==============================] - 0s 4ms/step - loss: 3.0553e-04 - categorical_accuracy: 1.0000 - val_loss: 0.4495 - val_categorical_accuracy: 0.9532\n",
      "Epoch 20/30\n",
      "48/48 [==============================] - 0s 5ms/step - loss: 2.8311e-04 - categorical_accuracy: 1.0000 - val_loss: 0.4492 - val_categorical_accuracy: 0.9531\n",
      "Epoch 21/30\n",
      "48/48 [==============================] - 0s 4ms/step - loss: 2.6300e-04 - categorical_accuracy: 1.0000 - val_loss: 0.4496 - val_categorical_accuracy: 0.9532\n",
      "Epoch 22/30\n",
      "48/48 [==============================] - 0s 4ms/step - loss: 2.4643e-04 - categorical_accuracy: 1.0000 - val_loss: 0.4497 - val_categorical_accuracy: 0.9534\n",
      "Epoch 23/30\n",
      "48/48 [==============================] - 0s 4ms/step - loss: 2.3002e-04 - categorical_accuracy: 1.0000 - val_loss: 0.4493 - val_categorical_accuracy: 0.9535\n",
      "Epoch 24/30\n",
      "48/48 [==============================] - 0s 4ms/step - loss: 2.1729e-04 - categorical_accuracy: 1.0000 - val_loss: 0.4491 - val_categorical_accuracy: 0.9534\n",
      "Epoch 25/30\n",
      "48/48 [==============================] - 0s 4ms/step - loss: 2.0350e-04 - categorical_accuracy: 1.0000 - val_loss: 0.4493 - val_categorical_accuracy: 0.9536\n",
      "Epoch 26/30\n",
      "48/48 [==============================] - 0s 4ms/step - loss: 1.9292e-04 - categorical_accuracy: 1.0000 - val_loss: 0.4492 - val_categorical_accuracy: 0.9537\n",
      "Epoch 27/30\n",
      "48/48 [==============================] - 0s 4ms/step - loss: 1.8269e-04 - categorical_accuracy: 1.0000 - val_loss: 0.4495 - val_categorical_accuracy: 0.9537\n",
      "Epoch 28/30\n",
      "48/48 [==============================] - 0s 4ms/step - loss: 1.7297e-04 - categorical_accuracy: 1.0000 - val_loss: 0.4490 - val_categorical_accuracy: 0.9538\n",
      "Epoch 29/30\n",
      "48/48 [==============================] - 0s 4ms/step - loss: 1.6417e-04 - categorical_accuracy: 1.0000 - val_loss: 0.4491 - val_categorical_accuracy: 0.9540\n",
      "Epoch 30/30\n",
      "48/48 [==============================] - 0s 4ms/step - loss: 1.5649e-04 - categorical_accuracy: 1.0000 - val_loss: 0.4491 - val_categorical_accuracy: 0.9538\n",
      "dict_keys(['loss', 'categorical_accuracy', 'val_loss', 'val_categorical_accuracy'])\n"
     ]
    }
   ],
   "source": [
    "# validation_data 옵션으로 테스트 데이터만 넣어주어서 검증 데이터 분류가 가능\n",
    "history = model.fit(X_train, Y_train, validation_split=0.2, epochs=30, batch_size=1000, verbose=1)\n",
    "print(history.history.keys())"
   ]
  },
  {
   "cell_type": "code",
   "execution_count": 12,
   "id": "db48a03f",
   "metadata": {},
   "outputs": [
    {
     "name": "stdout",
     "output_type": "stream",
     "text": [
      "[15.223467826843262, 0.7894594073295593, 0.3886896073818207, 0.20968064665794373, 0.11585560441017151, 0.06247717887163162, 0.03306591883301735, 0.017757853493094444, 0.010004248470067978, 0.0046004182659089565, 0.0026355639565736055, 0.0013971856096759439, 0.0008256344590336084, 0.0005847761640325189, 0.00048388875438831747, 0.0004053529119119048, 0.0003673324245028198, 0.00033206120133399963, 0.0003055288689211011, 0.0002831101301126182, 0.00026299883029423654, 0.0002464343560859561, 0.00023001567751634866, 0.00021728956198785454, 0.00020349863916635513, 0.00019292099750600755, 0.00018269238353241235, 0.00017297476006206125, 0.00016417460574302822, 0.0001564894919283688]\n"
     ]
    }
   ],
   "source": [
    "# Training loss 확인하기\n",
    "loss = history.history['loss']\n",
    "print(loss)"
   ]
  },
  {
   "cell_type": "code",
   "execution_count": 13,
   "id": "f3dddbf8",
   "metadata": {},
   "outputs": [
    {
     "data": {
      "text/plain": [
       "[1.2772667407989502,\n",
       " 0.7440851926803589,\n",
       " 0.6076030731201172,\n",
       " 0.5344198346138,\n",
       " 0.5037960410118103,\n",
       " 0.48827412724494934,\n",
       " 0.47903361916542053,\n",
       " 0.46683794260025024,\n",
       " 0.46726474165916443,\n",
       " 0.4566708207130432,\n",
       " 0.4502889811992645,\n",
       " 0.45215392112731934,\n",
       " 0.4507962763309479,\n",
       " 0.4499097466468811,\n",
       " 0.44944554567337036,\n",
       " 0.4502040147781372,\n",
       " 0.4498695433139801,\n",
       " 0.4498113989830017,\n",
       " 0.44947656989097595,\n",
       " 0.4492455720901489,\n",
       " 0.4495501220226288,\n",
       " 0.4497239887714386,\n",
       " 0.44929012656211853,\n",
       " 0.4490862488746643,\n",
       " 0.44927719235420227,\n",
       " 0.4491976797580719,\n",
       " 0.44945597648620605,\n",
       " 0.4489951431751251,\n",
       " 0.44908764958381653,\n",
       " 0.44911253452301025]"
      ]
     },
     "execution_count": 13,
     "metadata": {},
     "output_type": "execute_result"
    }
   ],
   "source": [
    "# Q. Validation loss를 확인해 보세요.\n",
    "val_loss = history.history['val_loss']\n",
    "val_loss"
   ]
  },
  {
   "cell_type": "markdown",
   "id": "08972875",
   "metadata": {},
   "source": [
    "# 모델 성능 확인"
   ]
  },
  {
   "cell_type": "code",
   "execution_count": 14,
   "id": "26f552cf",
   "metadata": {},
   "outputs": [
    {
     "name": "stdout",
     "output_type": "stream",
     "text": [
      "313/313 [==============================] - 1s 2ms/step - loss: 0.4495 - categorical_accuracy: 0.9547\n",
      "\n",
      " Test Accuracy: 0.9547\n"
     ]
    }
   ],
   "source": [
    "# Test 데이터를 통해서 정확도 확인하기\n",
    "print(\"\\n Test Accuracy: %.4f\" % (model.evaluate(X_test, Y_test)[1]))"
   ]
  },
  {
   "cell_type": "code",
   "execution_count": 15,
   "id": "c198f812",
   "metadata": {},
   "outputs": [
    {
     "data": {
      "image/png": "[encoded data removed]",
      "text/plain": [
       "<Figure size 432x288 with 1 Axes>"
      ]
     },
     "metadata": {
      "needs_background": "light"
     },
     "output_type": "display_data"
    }
   ],
   "source": [
    "# 그래프로 표현\n",
    "x_len = np.arange(len(val_loss))\n",
    "plt.plot(x_len, val_loss, marker='.', c=\"red\", label='validation loss')\n",
    "plt.plot(x_len, loss, marker='.', c=\"blue\", label='training loss')\n",
    "\n",
    "# 그래프에 그리드를 주고 레이블을 표시\n",
    "plt.legend(loc='upper right')\n",
    "# plt.axis([0, 20, 0, 0.35])\n",
    "plt.grid()\n",
    "plt.xlabel('epoch')\n",
    "plt.ylabel('loss')\n",
    "plt.show()"
   ]
  },
  {
   "cell_type": "markdown",
   "id": "116f446e",
   "metadata": {},
   "source": [
    "---"
   ]
  },
  {
   "cell_type": "markdown",
   "id": "d1b1de5a",
   "metadata": {},
   "source": [
    "# MLP 모델의 한계"
   ]
  },
  {
   "cell_type": "markdown",
   "id": "e947d7c5",
   "metadata": {},
   "source": [
    "## 원본 데이터를 변형해서 MLP 구조의 성능 테스트하기"
   ]
  },
  {
   "cell_type": "code",
   "execution_count": 16,
   "id": "de9f7e2e",
   "metadata": {},
   "outputs": [],
   "source": [
    "# OpenCV 모듈 불러오기\n",
    "import cv2"
   ]
  },
  {
   "cell_type": "markdown",
   "id": "21620a8a",
   "metadata": {},
   "source": [
    "* OpenCV 라이브러리는 이미지 데이터를 다루는 데에 매우 효과적인 도구들을 갖추고 있는 모듈입니다.\n",
    "\n",
    "\n",
    "\n",
    "\n"
   ]
  },
  {
   "cell_type": "code",
   "execution_count": 17,
   "id": "22f0dc76",
   "metadata": {},
   "outputs": [
    {
     "data": {
      "text/plain": [
       "((60000, 28, 28), (60000,))"
      ]
     },
     "execution_count": 17,
     "metadata": {},
     "output_type": "execute_result"
    }
   ],
   "source": [
    "# Q. 다시 한번 MNIST 데이터를 불러와 보세요.\n",
    "(X_train, y_train), (X_test, y_test) = tf.keras.datasets.mnist.load_data()\n",
    "X_train.shape, y_train.shape"
   ]
  },
  {
   "cell_type": "code",
   "execution_count": 18,
   "id": "e3423f65",
   "metadata": {},
   "outputs": [
    {
     "name": "stdout",
     "output_type": "stream",
     "text": [
      "0\n"
     ]
    },
    {
     "data": {
      "image/png": "[encoded data removed]",
      "text/plain": [
       "<Figure size 432x288 with 1 Axes>"
      ]
     },
     "metadata": {
      "needs_background": "light"
     },
     "output_type": "display_data"
    }
   ],
   "source": [
    "# Q. MNIST 데이터가 어떻게 생겼는지 확인해 봅시다. (이전 스텝을 참고해서 코드를 작성해 보세요.)\n",
    "print(y_train[1])\n",
    "plt.imshow(X_train[1], cmap='Greys')\n",
    "plt.show()"
   ]
  },
  {
   "cell_type": "markdown",
   "id": "b40c1c8d",
   "metadata": {},
   "source": [
    "## OpenCV의 함수들을 이용해서 MNIST 이미지에 회전 변환과 이동 변환(선형 변환)을 적용\n",
    "\n",
    "- 선형 변환을 위해서 변환 매트릭스를 먼저 구하고, 이미지에 변환 매트릭스를 적용해 봅시다. 즉 원본 이미지에 선형 변환 매트릭스를 곱하여 원본 이미지를 변환하는 것입니다."
   ]
  },
  {
   "cell_type": "code",
   "execution_count": 21,
   "id": "e90dc239",
   "metadata": {},
   "outputs": [],
   "source": [
    "# 이미지 회전 변환 메트릭스 구하기 (getRotationMatrix2D((회전중심점 좌표), 회전각도, 스케일링 요소)\n",
    "M = cv2.getRotationMatrix2D((20, 25), 20, 1)  ## 회전 변환 Matrix 생성\n",
    "\n",
    "# 이미지 이동 변환 메트릭스 구하기 (이미지를 (3,3)만큼 이동시킨다)\n",
    "M[0, 2] = M[0, 2] + 3\n",
    "M[1, 2] = M[1, 2] + 3\n",
    "\n",
    "# 이미지 변환 메트릭스 적용 (warpAffine : 이미지에 변환행렬을 적용해, 실제로 이미지를 변환 (변환할 이미지, 적용할 변환행렬 M, 출력 이미지 크기))\n",
    "test_image = cv2.warpAffine(X_train[1], M, (28, 28))  ## image에 matrix 곱"
   ]
  },
  {
   "cell_type": "code",
   "execution_count": 22,
   "id": "63c022b8",
   "metadata": {},
   "outputs": [
    {
     "data": {
      "text/plain": [
       "<matplotlib.image.AxesImage at 0x7f19abf19a90>"
      ]
     },
     "execution_count": 22,
     "metadata": {},
     "output_type": "execute_result"
    },
    {
     "data": {
      "image/png": "[encoded data removed]",
      "text/plain": [
       "<Figure size 432x288 with 1 Axes>"
      ]
     },
     "metadata": {
      "needs_background": "light"
     },
     "output_type": "display_data"
    }
   ],
   "source": [
    "# 변환된 이미지\n",
    "plt.imshow(test_image, cmap='Greys')"
   ]
  },
  {
   "cell_type": "markdown",
   "id": "c4ee140d",
   "metadata": {},
   "source": [
    "## 변환된 이미지도 잘 분류하는지 확인"
   ]
  },
  {
   "cell_type": "code",
   "execution_count": 23,
   "id": "343e1dc6",
   "metadata": {},
   "outputs": [],
   "source": [
    "# MLP의 input 데이터를 넣어주기 위해 1x784 형태로 reshape하고 normalization\n",
    "test_image_reshape = test_image.reshape(1, 784).astype('float64')"
   ]
  },
  {
   "cell_type": "code",
   "execution_count": 24,
   "id": "37fb2924",
   "metadata": {},
   "outputs": [],
   "source": [
    "Y_prediction = model.predict(test_image_reshape)"
   ]
  },
  {
   "cell_type": "code",
   "execution_count": 26,
   "id": "8b71af9f",
   "metadata": {
    "scrolled": true
   },
   "outputs": [
    {
     "data": {
      "image/png": "[encoded data removed]",
      "text/plain": [
       "<Figure size 432x288 with 1 Axes>"
      ]
     },
     "metadata": {
      "needs_background": "light"
     },
     "output_type": "display_data"
    }
   ],
   "source": [
    "index = np.argmax(Y_prediction) # 10개의 class가 각 확률 값으로 나오기 때문에 가장 높은 값을 가진 인덱스를 추출 \n",
    "value = Y_prediction[:, index]\n",
    "plt.imshow(test_image, cmap='Greys')\n",
    "plt.xlabel(\"prediction: \"+str(index)+\"  \" +str(value), fontsize=20)\n",
    "plt.show()"
   ]
  },
  {
   "cell_type": "markdown",
   "id": "8c5d926c",
   "metadata": {},
   "source": [
    "## 0인데 1로 분류했다. 오류가 생김"
   ]
  },
  {
   "cell_type": "code",
   "execution_count": null,
   "id": "13036ce4",
   "metadata": {},
   "outputs": [],
   "source": []
  }
 ],
 "metadata": {
  "kernelspec": {
   "display_name": "Python 3 (ipykernel)",
   "language": "python",
   "name": "python3"
  },
  "language_info": {
   "codemirror_mode": {
    "name": "ipython",
    "version": 3
   },
   "file_extension": ".py",
   "mimetype": "text/x-python",
   "name": "python",
   "nbconvert_exporter": "python",
   "pygments_lexer": "ipython3",
   "version": "3.9.7"
  }
 },
 "nbformat": 4,
 "nbformat_minor": 5
}
