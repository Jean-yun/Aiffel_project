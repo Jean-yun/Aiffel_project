{
 "cells": [
  {
   "cell_type": "code",
   "execution_count": 1,
   "metadata": {},
   "outputs": [],
   "source": [
    "import tensorflow as tf\n",
    "from tensorflow import keras\n",
    "from tensorflow.keras import models, layers, utils"
   ]
  },
  {
   "cell_type": "markdown",
   "metadata": {},
   "source": [
    "# 1. 데이터 로드 및 전처리 (학습, 검증, 테스트 데이터로 나누기) )"
   ]
  },
  {
   "cell_type": "markdown",
   "metadata": {},
   "source": [
    "## 1) 데이터 로드"
   ]
  },
  {
   "cell_type": "code",
   "execution_count": 2,
   "metadata": {},
   "outputs": [
    {
     "name": "stdout",
     "output_type": "stream",
     "text": [
      "전체 학습 데이터: (60000, 28, 28)  레이블: (60000,)\n",
      "학습용 데이터: (42000, 28, 28)  레이블: (42000,)\n",
      "검증용 데이터: (18000, 28, 28)  레이블: (18000,)\n",
      "테스트용 데이터: (10000, 28, 28)  레이블: (10000,)\n"
     ]
    }
   ],
   "source": [
    "from tensorflow.keras.datasets import mnist\n",
    "from sklearn.model_selection import train_test_split\n",
    "\n",
    "(x_train_full, y_train_full), (x_test, y_test) = mnist.load_data(path='mnist.npz')\n",
    "\n",
    "x_train, x_val, y_train, y_val = train_test_split(x_train_full, y_train_full,\n",
    "                                                  test_size=0.3,\n",
    "                                                  random_state=123)\n",
    "\n",
    "print(f\"전체 학습 데이터: {x_train_full.shape}  레이블: {y_train_full.shape}\")\n",
    "print(f\"학습용 데이터: {x_train.shape}  레이블: {y_train.shape}\")\n",
    "print(f\"검증용 데이터: {x_val.shape}  레이블: {y_val.shape}\")\n",
    "print(f\"테스트용 데이터: {x_test.shape}  레이블: {y_test.shape}\")"
   ]
  },
  {
   "cell_type": "markdown",
   "metadata": {},
   "source": [
    "* 6개 숫자만 랜덤으로 뽑아보기"
   ]
  },
  {
   "cell_type": "code",
   "execution_count": 3,
   "metadata": {},
   "outputs": [
    {
     "data": {
      "image/png": "[encoded data removed]",
      "text/plain": [
       "<Figure size 1080x216 with 6 Axes>"
      ]
     },
     "metadata": {
      "needs_background": "light"
     },
     "output_type": "display_data"
    }
   ],
   "source": [
    "import numpy as np\n",
    "import matplotlib.pyplot as plt\n",
    "\n",
    "num_sample = 6\n",
    "random_idxs = np.random.randint(60000, size=num_sample)\n",
    "\n",
    "plt.figure(figsize=(15, 3))\n",
    "for i, idx in enumerate(random_idxs):\n",
    "  img = x_train_full[idx, :]\n",
    "  label = y_train_full[idx]\n",
    "\n",
    "  plt.subplot(1, len(random_idxs), i+1)\n",
    "  plt.axis('off')\n",
    "  plt.title(f'Index: {idx}, Label: {label}')\n",
    "  plt.imshow(img)"
   ]
  },
  {
   "cell_type": "code",
   "execution_count": 4,
   "metadata": {},
   "outputs": [
    {
     "name": "stdout",
     "output_type": "stream",
     "text": [
      "4\n"
     ]
    }
   ],
   "source": [
    "print(y_train[0])"
   ]
  },
  {
   "cell_type": "code",
   "execution_count": 5,
   "metadata": {},
   "outputs": [
    {
     "data": {
      "text/plain": [
       "<matplotlib.image.AxesImage at 0x7fdd6f982700>"
      ]
     },
     "execution_count": 5,
     "metadata": {},
     "output_type": "execute_result"
    },
    {
     "data": {
      "image/png": "[encoded data removed]",
      "text/plain": [
       "<Figure size 432x288 with 1 Axes>"
      ]
     },
     "metadata": {
      "needs_background": "light"
     },
     "output_type": "display_data"
    }
   ],
   "source": [
    "img = x_train[0, :]\n",
    "plt.axis('off')\n",
    "plt.imshow(img)"
   ]
  },
  {
   "cell_type": "code",
   "execution_count": 6,
   "metadata": {},
   "outputs": [
    {
     "name": "stdout",
     "output_type": "stream",
     "text": [
      "[[  0   0   0   0   0   0   0   0   0   0   0   0   0   0   0   0   0   0\n",
      "    0   0   0   0   0   0   0   0   0   0]\n",
      " [  0   0   0   0   0   0   0   0   0   0   0   0   0   0   0   0   0   0\n",
      "    0   0   0   0   0   0   0   0   0   0]\n",
      " [  0   0   0   0   0   0   0   0   0   0   0   0   0   0   0   0   0   0\n",
      "    0   0   0   0   0   0   0   0   0   0]\n",
      " [  0   0   0   0   0   0   0   0   0   0   0   0   0   0   0   0   0   0\n",
      "    0   0   0   0   0   0   0   0   0   0]\n",
      " [  0   0   0   0   0   0   0   0   0   0   0   0   0   0   0   0 184 236\n",
      "    0   0   0   0   0   0   0   0   0   0]\n",
      " [  0   0   0   0   0   0   0   0   0   0   0   0   0   0   0  13 235 240\n",
      "   11   0   0   0   0   0   0   0   0   0]\n",
      " [  0   0   0   0   0   0   0   0   0   0   0   0   0   0   0  73 244 144\n",
      "   59   0   0   0   0   0   0   0   0   0]\n",
      " [  0   0   0   0   0   0   0   0   0   0   0   0   0   0   0 104 186   6\n",
      "   32   0   0   0   0   0   0   0   0   0]\n",
      " [  0   0   0   0   0   0   0   0   0  33  21   0   0   0   0 155 155   0\n",
      "    0   0   0   0   0   0   0   0   0   0]\n",
      " [  0   0   0   0   0   0   0   0   0 198  84   0   0   0   6 205 103   0\n",
      "    0   0   0   0   0   0   0   0   0   0]\n",
      " [  0   0   0   0   0   0   0   0  21 245  73   0   0   0  30 254 103   0\n",
      "    0   0   0   0   0   0   0   0   0   0]\n",
      " [  0   0   0   0   0   0   0   0  49 182   7   0   0   0  30 254 103   0\n",
      "    0   0   0   0   0   0   0   0   0   0]\n",
      " [  0   0   0   0   0   0   0   0  98 144   0   0   0   0  30 254  94   0\n",
      "    0   0   0   0   0   0   0   0   0   0]\n",
      " [  0   0   0   0   0   0   0   0  90 144   0   0   0   0  30 254  63   0\n",
      "    0   0   0   0   0   0   0   0   0   0]\n",
      " [  0   0   0   0   0   0   0   0 114 152   0   0   0   0  53 254 103   0\n",
      "    0   0   0   0   0   0   0   0   0   0]\n",
      " [  0   0   0   0   0   0   0   0  58 237  42   0   0   0  78 254  97   0\n",
      "    2  28   0   0   0   0   0   0   0   0]\n",
      " [  0   0   0   0   0   0   0   0  20 239 228 110  30  15 106 254 107  33\n",
      "  157  87   0   0   0   0   0   0   0   0]\n",
      " [  0   0   0   0   0   0   0   0   0 101 243 254 254 239 249 254 254 253\n",
      "  154   0   0   0   0   0   0   0   0   0]\n",
      " [  0   0   0   0   0   0   0   0   0   0  58 168 232 249 254 254 200  85\n",
      "    0   0   0   0   0   0   0   0   0   0]\n",
      " [  0   0   0   0   0   0   0   0   0   0   0   0   0  31 125 254  51   0\n",
      "    0   0   0   0   0   0   0   0   0   0]\n",
      " [  0   0   0   0   0   0   0   0   0   0   0   0   0   0  75 254  39   0\n",
      "    0   0   0   0   0   0   0   0   0   0]\n",
      " [  0   0   0   0   0   0   0   0   0   0   0   0   0   0  30 254  90   0\n",
      "    0   0   0   0   0   0   0   0   0   0]\n",
      " [  0   0   0   0   0   0   0   0   0   0   0   0   0   0  30 254 137   0\n",
      "    0   0   0   0   0   0   0   0   0   0]\n",
      " [  0   0   0   0   0   0   0   0   0   0   0   0   0   0  15 204 238  11\n",
      "    0   0   0   0   0   0   0   0   0   0]\n",
      " [  0   0   0   0   0   0   0   0   0   0   0   0   0   0   0   0   0   0\n",
      "    0   0   0   0   0   0   0   0   0   0]\n",
      " [  0   0   0   0   0   0   0   0   0   0   0   0   0   0   0   0   0   0\n",
      "    0   0   0   0   0   0   0   0   0   0]\n",
      " [  0   0   0   0   0   0   0   0   0   0   0   0   0   0   0   0   0   0\n",
      "    0   0   0   0   0   0   0   0   0   0]\n",
      " [  0   0   0   0   0   0   0   0   0   0   0   0   0   0   0   0   0   0\n",
      "    0   0   0   0   0   0   0   0   0   0]]\n"
     ]
    }
   ],
   "source": [
    "print(x_train[0])"
   ]
  },
  {
   "cell_type": "markdown",
   "metadata": {},
   "source": [
    "## 2) 전처리 (0~1 로 나타내기, 원핫인코딩)"
   ]
  },
  {
   "cell_type": "code",
   "execution_count": 7,
   "metadata": {},
   "outputs": [
    {
     "name": "stdout",
     "output_type": "stream",
     "text": [
      "[0. 0. 0. 0. 1. 0. 0. 0. 0. 0.]\n",
      "[0. 0. 0. 0. 1. 0. 0. 0. 0. 0.]\n",
      "[0. 0. 0. 0. 0. 0. 0. 1. 0. 0.]\n"
     ]
    }
   ],
   "source": [
    "x_train = x_train / 255.\n",
    "x_val = x_val / 255.\n",
    "x_test = x_test / 255.\n",
    "\n",
    "y_train = utils.to_categorical(y_train)\n",
    "y_val = utils.to_categorical(y_val)\n",
    "y_test = utils.to_categorical(y_test)\n",
    "\n",
    "print(y_train[0])\n",
    "print(y_val[0])\n",
    "print(y_test[0])"
   ]
  },
  {
   "cell_type": "markdown",
   "metadata": {},
   "source": [
    "# 2. 모델 구성"
   ]
  },
  {
   "cell_type": "code",
   "execution_count": 8,
   "metadata": {},
   "outputs": [],
   "source": [
    "#pip install pydot -qq"
   ]
  },
  {
   "cell_type": "code",
   "execution_count": 9,
   "metadata": {},
   "outputs": [
    {
     "name": "stdout",
     "output_type": "stream",
     "text": [
      "Model: \"sequential\"\n",
      "_________________________________________________________________\n",
      "Layer (type)                 Output Shape              Param #   \n",
      "=================================================================\n",
      "flatten (Flatten)            (None, 784)               0         \n",
      "_________________________________________________________________\n",
      "dense1 (Dense)               (None, 100)               78500     \n",
      "_________________________________________________________________\n",
      "dense2 (Dense)               (None, 64)                6464      \n",
      "_________________________________________________________________\n",
      "dense3 (Dense)               (None, 32)                2080      \n",
      "_________________________________________________________________\n",
      "output (Dense)               (None, 10)                330       \n",
      "=================================================================\n",
      "Total params: 87,374\n",
      "Trainable params: 87,374\n",
      "Non-trainable params: 0\n",
      "_________________________________________________________________\n"
     ]
    },
    {
     "data": {
      "image/png": "[encoded data removed]",
      "text/plain": [
       "<IPython.core.display.Image object>"
      ]
     },
     "execution_count": 9,
     "metadata": {},
     "output_type": "execute_result"
    }
   ],
   "source": [
    "model = models.Sequential()\n",
    "model.add(keras.Input(shape=(28, 28), name='input'))\n",
    "model.add(layers.Flatten(input_shape=[28, 28], name='flatten'))\n",
    "model.add(layers.Dense(100, activation='relu', name='dense1'))\n",
    "model.add(layers.Dense(64, activation='relu', name='dense2'))\n",
    "model.add(layers.Dense(32, activation='relu', name='dense3'))\n",
    "model.add(layers.Dense(10, activation='softmax', name='output'))\n",
    "model.summary()\n",
    "utils.plot_model(model, show_shapes=True)"
   ]
  },
  {
   "cell_type": "markdown",
   "metadata": {},
   "source": [
    "# 3. 모델 컴파일, 학습"
   ]
  },
  {
   "cell_type": "code",
   "execution_count": 12,
   "metadata": {},
   "outputs": [],
   "source": [
    "model.compile(loss='categorical_crossentropy',\n",
    "              optimizer='sgd',\n",
    "              metrics=['accuracy'])"
   ]
  },
  {
   "cell_type": "markdown",
   "metadata": {},
   "source": [
    "* 손실 함수로는 다중 분류로 클래스가 원-핫 인코딩 방식으로 되어 있을 때 사용하는 categorical_crossentropy를 지정하고, 옵티마이저는 가장 기본적인 sgd을 지정합니다. 그리고 분류에 대한 성능을 확인하기 위한 지표로 accuracy를 지정"
   ]
  },
  {
   "cell_type": "code",
   "execution_count": 13,
   "metadata": {},
   "outputs": [
    {
     "name": "stdout",
     "output_type": "stream",
     "text": [
      "Epoch 1/50\n",
      "329/329 [==============================] - 6s 7ms/step - loss: 1.8671 - accuracy: 0.4071 - val_loss: 1.2208 - val_accuracy: 0.6949\n",
      "Epoch 2/50\n",
      "329/329 [==============================] - 1s 4ms/step - loss: 0.8473 - accuracy: 0.7831 - val_loss: 0.6575 - val_accuracy: 0.8148\n",
      "Epoch 3/50\n",
      "329/329 [==============================] - 1s 4ms/step - loss: 0.5281 - accuracy: 0.8575 - val_loss: 0.4634 - val_accuracy: 0.8693\n",
      "Epoch 4/50\n",
      "329/329 [==============================] - 2s 5ms/step - loss: 0.4170 - accuracy: 0.8840 - val_loss: 0.3967 - val_accuracy: 0.8836\n",
      "Epoch 5/50\n",
      "329/329 [==============================] - 1s 5ms/step - loss: 0.3657 - accuracy: 0.8965 - val_loss: 0.3730 - val_accuracy: 0.8931\n",
      "Epoch 6/50\n",
      "329/329 [==============================] - 1s 4ms/step - loss: 0.3344 - accuracy: 0.9050 - val_loss: 0.3305 - val_accuracy: 0.9038\n",
      "Epoch 7/50\n",
      "329/329 [==============================] - 1s 4ms/step - loss: 0.3116 - accuracy: 0.9112 - val_loss: 0.3102 - val_accuracy: 0.9082\n",
      "Epoch 8/50\n",
      "329/329 [==============================] - 1s 4ms/step - loss: 0.2920 - accuracy: 0.9163 - val_loss: 0.3136 - val_accuracy: 0.9058\n",
      "Epoch 9/50\n",
      "329/329 [==============================] - 2s 6ms/step - loss: 0.2761 - accuracy: 0.9204 - val_loss: 0.2742 - val_accuracy: 0.9181\n",
      "Epoch 10/50\n",
      "329/329 [==============================] - 2s 5ms/step - loss: 0.2611 - accuracy: 0.9249 - val_loss: 0.2812 - val_accuracy: 0.9188\n",
      "Epoch 11/50\n",
      "329/329 [==============================] - 1s 4ms/step - loss: 0.2485 - accuracy: 0.9284 - val_loss: 0.2583 - val_accuracy: 0.9216\n",
      "Epoch 12/50\n",
      "329/329 [==============================] - 1s 4ms/step - loss: 0.2365 - accuracy: 0.9323 - val_loss: 0.2542 - val_accuracy: 0.9222\n",
      "Epoch 13/50\n",
      "329/329 [==============================] - 2s 5ms/step - loss: 0.2262 - accuracy: 0.9343 - val_loss: 0.2300 - val_accuracy: 0.9314\n",
      "Epoch 14/50\n",
      "329/329 [==============================] - 1s 4ms/step - loss: 0.2160 - accuracy: 0.9376 - val_loss: 0.2235 - val_accuracy: 0.9336\n",
      "Epoch 15/50\n",
      "329/329 [==============================] - 2s 5ms/step - loss: 0.2072 - accuracy: 0.9402 - val_loss: 0.2139 - val_accuracy: 0.9379\n",
      "Epoch 16/50\n",
      "329/329 [==============================] - 1s 4ms/step - loss: 0.1986 - accuracy: 0.9432 - val_loss: 0.2113 - val_accuracy: 0.9368\n",
      "Epoch 17/50\n",
      "329/329 [==============================] - 2s 5ms/step - loss: 0.1916 - accuracy: 0.9449 - val_loss: 0.2004 - val_accuracy: 0.9392\n",
      "Epoch 18/50\n",
      "329/329 [==============================] - 2s 5ms/step - loss: 0.1845 - accuracy: 0.9473 - val_loss: 0.1974 - val_accuracy: 0.9413\n",
      "Epoch 19/50\n",
      "329/329 [==============================] - 1s 4ms/step - loss: 0.1781 - accuracy: 0.9490 - val_loss: 0.1900 - val_accuracy: 0.9427\n",
      "Epoch 20/50\n",
      "329/329 [==============================] - 1s 5ms/step - loss: 0.1722 - accuracy: 0.9511 - val_loss: 0.1831 - val_accuracy: 0.9456\n",
      "Epoch 21/50\n",
      "329/329 [==============================] - 2s 5ms/step - loss: 0.1661 - accuracy: 0.9522 - val_loss: 0.1954 - val_accuracy: 0.9398\n",
      "Epoch 22/50\n",
      "329/329 [==============================] - 1s 4ms/step - loss: 0.1610 - accuracy: 0.9534 - val_loss: 0.1749 - val_accuracy: 0.9473\n",
      "Epoch 23/50\n",
      "329/329 [==============================] - 1s 4ms/step - loss: 0.1558 - accuracy: 0.9549 - val_loss: 0.1722 - val_accuracy: 0.9493\n",
      "Epoch 24/50\n",
      "329/329 [==============================] - 1s 5ms/step - loss: 0.1508 - accuracy: 0.9566 - val_loss: 0.1693 - val_accuracy: 0.9496\n",
      "Epoch 25/50\n",
      "329/329 [==============================] - 1s 5ms/step - loss: 0.1463 - accuracy: 0.9579 - val_loss: 0.1684 - val_accuracy: 0.9494\n",
      "Epoch 26/50\n",
      "329/329 [==============================] - 1s 4ms/step - loss: 0.1420 - accuracy: 0.9593 - val_loss: 0.1584 - val_accuracy: 0.9531\n",
      "Epoch 27/50\n",
      "329/329 [==============================] - 1s 5ms/step - loss: 0.1377 - accuracy: 0.9608 - val_loss: 0.1565 - val_accuracy: 0.9525\n",
      "Epoch 28/50\n",
      "329/329 [==============================] - 1s 4ms/step - loss: 0.1336 - accuracy: 0.9613 - val_loss: 0.1648 - val_accuracy: 0.9487\n",
      "Epoch 29/50\n",
      "329/329 [==============================] - 1s 4ms/step - loss: 0.1300 - accuracy: 0.9628 - val_loss: 0.1630 - val_accuracy: 0.9519\n",
      "Epoch 30/50\n",
      "329/329 [==============================] - 2s 5ms/step - loss: 0.1265 - accuracy: 0.9635 - val_loss: 0.1457 - val_accuracy: 0.9553\n",
      "Epoch 31/50\n",
      "329/329 [==============================] - 1s 4ms/step - loss: 0.1230 - accuracy: 0.9647 - val_loss: 0.1565 - val_accuracy: 0.9522\n",
      "Epoch 32/50\n",
      "329/329 [==============================] - 2s 5ms/step - loss: 0.1195 - accuracy: 0.9653 - val_loss: 0.1412 - val_accuracy: 0.9568\n",
      "Epoch 33/50\n",
      "329/329 [==============================] - 1s 4ms/step - loss: 0.1164 - accuracy: 0.9666 - val_loss: 0.1396 - val_accuracy: 0.9573\n",
      "Epoch 34/50\n",
      "329/329 [==============================] - 1s 5ms/step - loss: 0.1131 - accuracy: 0.9671 - val_loss: 0.1394 - val_accuracy: 0.9586\n",
      "Epoch 35/50\n",
      "329/329 [==============================] - 2s 5ms/step - loss: 0.1104 - accuracy: 0.9682 - val_loss: 0.1379 - val_accuracy: 0.9571\n",
      "Epoch 36/50\n",
      "329/329 [==============================] - 1s 4ms/step - loss: 0.1071 - accuracy: 0.9692 - val_loss: 0.1345 - val_accuracy: 0.9588\n",
      "Epoch 37/50\n",
      "329/329 [==============================] - 1s 4ms/step - loss: 0.1044 - accuracy: 0.9700 - val_loss: 0.1352 - val_accuracy: 0.9587\n",
      "Epoch 38/50\n",
      "329/329 [==============================] - 1s 4ms/step - loss: 0.1020 - accuracy: 0.9708 - val_loss: 0.1320 - val_accuracy: 0.9601\n",
      "Epoch 39/50\n",
      "329/329 [==============================] - 1s 4ms/step - loss: 0.0995 - accuracy: 0.9710 - val_loss: 0.1327 - val_accuracy: 0.9601\n",
      "Epoch 40/50\n",
      "329/329 [==============================] - 1s 4ms/step - loss: 0.0968 - accuracy: 0.9721 - val_loss: 0.1272 - val_accuracy: 0.9618\n",
      "Epoch 41/50\n",
      "329/329 [==============================] - 2s 5ms/step - loss: 0.0945 - accuracy: 0.9730 - val_loss: 0.1264 - val_accuracy: 0.9615\n",
      "Epoch 42/50\n",
      "329/329 [==============================] - 1s 4ms/step - loss: 0.0919 - accuracy: 0.9736 - val_loss: 0.1336 - val_accuracy: 0.9587\n",
      "Epoch 43/50\n",
      "329/329 [==============================] - 1s 4ms/step - loss: 0.0900 - accuracy: 0.9741 - val_loss: 0.1421 - val_accuracy: 0.9567\n",
      "Epoch 44/50\n",
      "329/329 [==============================] - 1s 4ms/step - loss: 0.0878 - accuracy: 0.9748 - val_loss: 0.1256 - val_accuracy: 0.9626\n",
      "Epoch 45/50\n",
      "329/329 [==============================] - 1s 4ms/step - loss: 0.0856 - accuracy: 0.9751 - val_loss: 0.1209 - val_accuracy: 0.9642\n",
      "Epoch 46/50\n",
      "329/329 [==============================] - 1s 4ms/step - loss: 0.0832 - accuracy: 0.9760 - val_loss: 0.1239 - val_accuracy: 0.9629\n",
      "Epoch 47/50\n",
      "329/329 [==============================] - 1s 4ms/step - loss: 0.0815 - accuracy: 0.9762 - val_loss: 0.1207 - val_accuracy: 0.9636\n",
      "Epoch 48/50\n",
      "329/329 [==============================] - 2s 5ms/step - loss: 0.0793 - accuracy: 0.9772 - val_loss: 0.1176 - val_accuracy: 0.9639\n",
      "Epoch 49/50\n",
      "329/329 [==============================] - 1s 4ms/step - loss: 0.0774 - accuracy: 0.9783 - val_loss: 0.1246 - val_accuracy: 0.9634\n",
      "Epoch 50/50\n",
      "329/329 [==============================] - 1s 3ms/step - loss: 0.0758 - accuracy: 0.9780 - val_loss: 0.1294 - val_accuracy: 0.9623\n"
     ]
    }
   ],
   "source": [
    "history = model.fit(x_train, y_train,\n",
    "                    epochs=50,\n",
    "                    batch_size=128,\n",
    "                    validation_data=(x_val, y_val))"
   ]
  },
  {
   "cell_type": "code",
   "execution_count": 14,
   "metadata": {},
   "outputs": [
    {
     "data": {
      "text/plain": [
       "dict_keys(['loss', 'accuracy', 'val_loss', 'val_accuracy'])"
      ]
     },
     "execution_count": 14,
     "metadata": {},
     "output_type": "execute_result"
    }
   ],
   "source": [
    "history.history.keys()"
   ]
  },
  {
   "cell_type": "markdown",
   "metadata": {},
   "source": [
    "* 이렇게 학습과정을 history에 저장해서 각각 그래프로 그려볼 수 있다"
   ]
  },
  {
   "cell_type": "code",
   "execution_count": 16,
   "metadata": {},
   "outputs": [
    {
     "data": {
      "image/png": "[encoded data removed]",
      "text/plain": [
       "<Figure size 864x360 with 2 Axes>"
      ]
     },
     "metadata": {
      "needs_background": "light"
     },
     "output_type": "display_data"
    }
   ],
   "source": [
    "history_dict = history.history\n",
    "\n",
    "loss = history_dict['loss']\n",
    "val_loss = history_dict['val_loss']\n",
    "\n",
    "epochs = range(1, len(loss) + 1)\n",
    "fig = plt.figure(figsize=(12, 5))\n",
    "\n",
    "ax1 = fig.add_subplot(1, 2, 1)\n",
    "ax1.plot(epochs, loss, color='blue', label='train_loss')\n",
    "ax1.plot(epochs, val_loss, color='red', label='val_loss')\n",
    "ax1.set_title('Train and Validation Loss')\n",
    "ax1.set_xlabel('Epochs')\n",
    "ax1.set_ylabel('Loss')\n",
    "ax1.grid()\n",
    "ax1.legend()\n",
    "\n",
    "accuracy = history_dict['accuracy']\n",
    "val_accuracy = history_dict['val_accuracy']\n",
    "\n",
    "ax2 = fig.add_subplot(1, 2, 2)\n",
    "ax2.plot(epochs, accuracy, color='blue', label='train_accuracy')\n",
    "ax2.plot(epochs, val_accuracy, color='red', label='val_accuracy')\n",
    "ax2.set_title('Train and Validation Accuracy')\n",
    "ax2.set_xlabel('Epochs')\n",
    "ax2.set_ylabel('Accuracy')\n",
    "ax2.grid()\n",
    "ax2.legend()\n",
    "\n",
    "plt.show()"
   ]
  },
  {
   "cell_type": "markdown",
   "metadata": {},
   "source": [
    "# 4. 모델 평가 및 예측"
   ]
  },
  {
   "cell_type": "code",
   "execution_count": 18,
   "metadata": {},
   "outputs": [
    {
     "name": "stdout",
     "output_type": "stream",
     "text": [
      "313/313 [==============================] - 1s 2ms/step - loss: 0.1192 - accuracy: 0.9635\n"
     ]
    },
    {
     "data": {
      "text/plain": [
       "[0.11920173466205597, 0.9635000228881836]"
      ]
     },
     "execution_count": 18,
     "metadata": {},
     "output_type": "execute_result"
    }
   ],
   "source": [
    "model.evaluate(x_test, y_test)"
   ]
  },
  {
   "cell_type": "code",
   "execution_count": 19,
   "metadata": {},
   "outputs": [
    {
     "name": "stdout",
     "output_type": "stream",
     "text": [
      "(10000, 10)\n",
      "[4.7373470e-07 5.3382910e-06 4.8407773e-04 9.6984702e-05 4.2258765e-08\n",
      " 7.6328479e-06 5.5827598e-10 9.9936885e-01 1.8209752e-05 1.8515928e-05]\n"
     ]
    }
   ],
   "source": [
    "pred_ys = model.predict(x_test)\n",
    "print(pred_ys.shape)\n",
    "print(pred_ys[0])"
   ]
  },
  {
   "cell_type": "markdown",
   "metadata": {},
   "source": [
    "* 결과값 중에서 가장 큰 수가 있는 위치값을 np.argmax()를 통해서 구하고, 예측한 레이블 값 arg_pred_y[0]과 실제 숫자 이미지인 x_test[0]를 출력해봅니다."
   ]
  },
  {
   "cell_type": "code",
   "execution_count": 20,
   "metadata": {},
   "outputs": [
    {
     "data": {
      "image/png": "[encoded data removed]",
      "text/plain": [
       "<Figure size 432x288 with 1 Axes>"
      ]
     },
     "metadata": {
      "needs_background": "light"
     },
     "output_type": "display_data"
    }
   ],
   "source": [
    "arg_pred_y = np.argmax(pred_ys, axis=1)\n",
    "\n",
    "plt.title(f'Predicted label: {arg_pred_y[0]}')\n",
    "plt.imshow(x_test[0])\n",
    "plt.show()"
   ]
  },
  {
   "cell_type": "code",
   "execution_count": 21,
   "metadata": {},
   "outputs": [
    {
     "name": "stdout",
     "output_type": "stream",
     "text": [
      "              precision    recall  f1-score   support\n",
      "\n",
      "           0       0.97      0.98      0.98       980\n",
      "           1       0.98      0.99      0.98      1135\n",
      "           2       0.91      0.99      0.95      1032\n",
      "           3       0.96      0.95      0.96      1010\n",
      "           4       0.97      0.96      0.97       982\n",
      "           5       0.97      0.94      0.96       892\n",
      "           6       0.96      0.98      0.97       958\n",
      "           7       0.97      0.95      0.96      1028\n",
      "           8       0.98      0.94      0.95       974\n",
      "           9       0.96      0.95      0.96      1009\n",
      "\n",
      "    accuracy                           0.96     10000\n",
      "   macro avg       0.96      0.96      0.96     10000\n",
      "weighted avg       0.96      0.96      0.96     10000\n",
      "\n"
     ]
    }
   ],
   "source": [
    "from sklearn.metrics import classification_report\n",
    "\n",
    "print(classification_report(np.argmax(y_test, axis=-1), np.argmax(pred_ys, axis=-1)))"
   ]
  },
  {
   "cell_type": "code",
   "execution_count": 22,
   "metadata": {},
   "outputs": [
    {
     "data": {
      "image/png": "[encoded data removed]",
      "text/plain": [
       "<Figure size 576x576 with 2 Axes>"
      ]
     },
     "metadata": {},
     "output_type": "display_data"
    }
   ],
   "source": [
    "from sklearn.metrics import confusion_matrix\n",
    "import seaborn as sns\n",
    "sns.set(style='white')\n",
    "\n",
    "plt.figure(figsize=(8, 8))\n",
    "cm = confusion_matrix(np.argmax(y_test, axis=1), np.argmax(pred_ys, axis=-1))\n",
    "sns.heatmap(cm, annot=True, fmt='d', cmap='Blues')\n",
    "plt.xlabel('Predicted Label')\n",
    "plt.ylabel('True Label')\n",
    "plt.show()"
   ]
  },
  {
   "cell_type": "markdown",
   "metadata": {},
   "source": [
    "# 5. 모델 저장"
   ]
  },
  {
   "cell_type": "code",
   "execution_count": 23,
   "metadata": {},
   "outputs": [],
   "source": [
    "model.save('mnist_model.h5')"
   ]
  },
  {
   "cell_type": "code",
   "execution_count": 24,
   "metadata": {},
   "outputs": [
    {
     "name": "stdout",
     "output_type": "stream",
     "text": [
      "Model: \"sequential\"\n",
      "_________________________________________________________________\n",
      "Layer (type)                 Output Shape              Param #   \n",
      "=================================================================\n",
      "flatten (Flatten)            (None, 784)               0         \n",
      "_________________________________________________________________\n",
      "dense1 (Dense)               (None, 100)               78500     \n",
      "_________________________________________________________________\n",
      "dense2 (Dense)               (None, 64)                6464      \n",
      "_________________________________________________________________\n",
      "dense3 (Dense)               (None, 32)                2080      \n",
      "_________________________________________________________________\n",
      "output (Dense)               (None, 10)                330       \n",
      "=================================================================\n",
      "Total params: 87,374\n",
      "Trainable params: 87,374\n",
      "Non-trainable params: 0\n",
      "_________________________________________________________________\n"
     ]
    }
   ],
   "source": [
    "loaded_model = models.load_model('mnist_model.h5')\n",
    "loaded_model.summary()"
   ]
  },
  {
   "cell_type": "code",
   "execution_count": 25,
   "metadata": {},
   "outputs": [
    {
     "name": "stdout",
     "output_type": "stream",
     "text": [
      "(10000, 10)\n",
      "[4.7373470e-07 5.3382910e-06 4.8407773e-04 9.6984702e-05 4.2258765e-08\n",
      " 7.6328479e-06 5.5827598e-10 9.9936885e-01 1.8209752e-05 1.8515928e-05]\n"
     ]
    }
   ],
   "source": [
    "pred_ys2 = loaded_model.predict(x_test)\n",
    "print(pred_ys2.shape)\n",
    "print(pred_ys2[0])"
   ]
  },
  {
   "cell_type": "code",
   "execution_count": 26,
   "metadata": {},
   "outputs": [
    {
     "data": {
      "image/png": "[encoded data removed]",
      "text/plain": [
       "<Figure size 432x288 with 1 Axes>"
      ]
     },
     "metadata": {},
     "output_type": "display_data"
    }
   ],
   "source": [
    "#예측값 시각화하기\n",
    "arg_pred_y2 =np.argmax(pred_ys2, axis=1)\n",
    "\n",
    "\n",
    "#matlotlib를 이용해서 시각화하기\n",
    "plt.title(f'Predicted label: {arg_pred_y[0]}')\n",
    "plt.imshow(x_test[0])\n",
    "plt.show()"
   ]
  },
  {
   "cell_type": "code",
   "execution_count": 27,
   "metadata": {},
   "outputs": [
    {
     "name": "stdout",
     "output_type": "stream",
     "text": [
      "(10000, 10)\n",
      "[0.10218863 0.1315181  0.10943004 0.10973513 0.10248236 0.09316371\n",
      " 0.09340706 0.06034731 0.09160157 0.1061261 ]\n"
     ]
    }
   ],
   "source": [
    "# 위에서 학습시킨 model의 구조를 json 형식으로 model_json에 저장합니다.\n",
    "model_json = model.to_json()\n",
    "\n",
    "# json으로 저장한 모델을 읽어옵니다.\n",
    "loaded_model = keras.models.model_from_json(model_json)\n",
    "\n",
    "predictions = loaded_model.predict(x_test)\n",
    "print(predictions.shape)\n",
    "print(predictions[0])"
   ]
  },
  {
   "cell_type": "markdown",
   "metadata": {},
   "source": [
    "# 6. 콜백함수\n",
    "-  콜백의 대표적인 예로는 ModelCheckpoint, EarlyStopping, LearningRateScheduler, Tensorboard가 있습니다"
   ]
  },
  {
   "cell_type": "code",
   "execution_count": 28,
   "metadata": {},
   "outputs": [],
   "source": [
    "from tensorflow.keras import callbacks"
   ]
  },
  {
   "cell_type": "markdown",
   "metadata": {},
   "source": [
    "## 1) Model Checkpoint\n",
    "- tf.keras.callbacks.ModelCheckpoint: 정기적으로 모델의 체크포인트를 저장하고, 문제가 발생할 때 복구하는데 사용합니다."
   ]
  },
  {
   "cell_type": "code",
   "execution_count": 29,
   "metadata": {},
   "outputs": [
    {
     "name": "stdout",
     "output_type": "stream",
     "text": [
      "Epoch 1/10\n",
      "1313/1313 [==============================] - 4s 3ms/step - loss: 0.0828 - accuracy: 0.9755\n",
      "Epoch 2/10\n",
      "1313/1313 [==============================] - 4s 3ms/step - loss: 0.0763 - accuracy: 0.9775\n",
      "Epoch 3/10\n",
      "1313/1313 [==============================] - 4s 3ms/step - loss: 0.0697 - accuracy: 0.9796\n",
      "Epoch 4/10\n",
      "1313/1313 [==============================] - 4s 3ms/step - loss: 0.0647 - accuracy: 0.9808\n",
      "Epoch 5/10\n",
      "1313/1313 [==============================] - 4s 3ms/step - loss: 0.0603 - accuracy: 0.9824\n",
      "Epoch 6/10\n",
      "1313/1313 [==============================] - 4s 3ms/step - loss: 0.0550 - accuracy: 0.9837\n",
      "Epoch 7/10\n",
      "1313/1313 [==============================] - 4s 3ms/step - loss: 0.0512 - accuracy: 0.9849\n",
      "Epoch 8/10\n",
      "1313/1313 [==============================] - 4s 3ms/step - loss: 0.0471 - accuracy: 0.9866\n",
      "Epoch 9/10\n",
      "1313/1313 [==============================] - 4s 3ms/step - loss: 0.0440 - accuracy: 0.9875\n",
      "Epoch 10/10\n",
      "1313/1313 [==============================] - 4s 3ms/step - loss: 0.0404 - accuracy: 0.9880\n"
     ]
    }
   ],
   "source": [
    "check_point_cb = callbacks.ModelCheckpoint('keras_mnist_model.h5')\n",
    "history = model.fit(x_train, y_train, epochs=10,\n",
    "                    callbacks=[check_point_cb])"
   ]
  },
  {
   "cell_type": "code",
   "execution_count": 30,
   "metadata": {},
   "outputs": [
    {
     "name": "stdout",
     "output_type": "stream",
     "text": [
      "Epoch 1/10\n",
      "1313/1313 [==============================] - 4s 3ms/step - loss: 0.0374 - accuracy: 0.9892 - val_loss: 0.1087 - val_accuracy: 0.9686\n",
      "Epoch 2/10\n",
      "1313/1313 [==============================] - 5s 4ms/step - loss: 0.0349 - accuracy: 0.9902 - val_loss: 0.1193 - val_accuracy: 0.9656\n",
      "Epoch 3/10\n",
      "1313/1313 [==============================] - 5s 4ms/step - loss: 0.0325 - accuracy: 0.9909 - val_loss: 0.1075 - val_accuracy: 0.9688\n",
      "Epoch 4/10\n",
      "1313/1313 [==============================] - 5s 4ms/step - loss: 0.0296 - accuracy: 0.9918 - val_loss: 0.1233 - val_accuracy: 0.9646\n",
      "Epoch 5/10\n",
      "1313/1313 [==============================] - 5s 4ms/step - loss: 0.0274 - accuracy: 0.9930 - val_loss: 0.1036 - val_accuracy: 0.9712\n",
      "Epoch 6/10\n",
      "1313/1313 [==============================] - 5s 4ms/step - loss: 0.0251 - accuracy: 0.9937 - val_loss: 0.1041 - val_accuracy: 0.9712\n",
      "Epoch 7/10\n",
      "1313/1313 [==============================] - 5s 4ms/step - loss: 0.0234 - accuracy: 0.9943 - val_loss: 0.1081 - val_accuracy: 0.9709\n",
      "Epoch 8/10\n",
      "1313/1313 [==============================] - 5s 4ms/step - loss: 0.0212 - accuracy: 0.9952 - val_loss: 0.1076 - val_accuracy: 0.9708\n",
      "Epoch 9/10\n",
      "1313/1313 [==============================] - 5s 4ms/step - loss: 0.0195 - accuracy: 0.9957 - val_loss: 0.1095 - val_accuracy: 0.9706\n",
      "Epoch 10/10\n",
      "1313/1313 [==============================] - 5s 4ms/step - loss: 0.0183 - accuracy: 0.9962 - val_loss: 0.1073 - val_accuracy: 0.9714\n"
     ]
    }
   ],
   "source": [
    "#최상의 모델만을 저장하는 옵션으로 save_best_only=True를 지정합니다.\n",
    "check_point_cb = callbacks.ModelCheckpoint('keras_mnist_model.h5', save_best_only=True)\n",
    "history = model.fit(x_train, y_train, epochs=10,\n",
    "                    validation_data=(x_val, y_val),\n",
    "                    callbacks=[check_point_cb])"
   ]
  },
  {
   "cell_type": "markdown",
   "metadata": {},
   "source": [
    "## 2) Earlystopping\n",
    "- tf.keras.callbacks.EarlyStopping: 검증 성능이 한동안 개선되지 않을 경우 학습을 중단할 때 사용합니다."
   ]
  },
  {
   "cell_type": "code",
   "execution_count": 31,
   "metadata": {},
   "outputs": [
    {
     "name": "stdout",
     "output_type": "stream",
     "text": [
      "Epoch 1/10\n",
      "1313/1313 [==============================] - 6s 4ms/step - loss: 0.0168 - accuracy: 0.9964 - val_loss: 0.1140 - val_accuracy: 0.9697\n",
      "Epoch 2/10\n",
      "1313/1313 [==============================] - 5s 4ms/step - loss: 0.0153 - accuracy: 0.9974 - val_loss: 0.1091 - val_accuracy: 0.9722\n",
      "Epoch 3/10\n",
      "1313/1313 [==============================] - 5s 4ms/step - loss: 0.0145 - accuracy: 0.9973 - val_loss: 0.1087 - val_accuracy: 0.9714\n",
      "Epoch 4/10\n",
      "1313/1313 [==============================] - 5s 4ms/step - loss: 0.0131 - accuracy: 0.9975 - val_loss: 0.1090 - val_accuracy: 0.9728\n",
      "Epoch 5/10\n",
      "1313/1313 [==============================] - 5s 4ms/step - loss: 0.0119 - accuracy: 0.9982 - val_loss: 0.1093 - val_accuracy: 0.9729\n",
      "Epoch 6/10\n",
      "1313/1313 [==============================] - 5s 4ms/step - loss: 0.0110 - accuracy: 0.9985 - val_loss: 0.1103 - val_accuracy: 0.9728\n"
     ]
    }
   ],
   "source": [
    "check_point_cb = callbacks.ModelCheckpoint('keras_mnist_model.h5', save_best_only=True)\n",
    "early_stopping_cb = callbacks.EarlyStopping(patience=3, monitor='val_loss',\n",
    "                                  restore_best_weights=True)\n",
    "history = model.fit(x_train, y_train, epochs=10,\n",
    "                    validation_data=(x_val, y_val),\n",
    "                    callbacks=[check_point_cb, early_stopping_cb])"
   ]
  },
  {
   "cell_type": "markdown",
   "metadata": {},
   "source": [
    "## 3) LearningRateScheduler\n",
    "- tf.keras.callbacks.LearningRateSchduler: 최적화를 하는 동안 학습률(learning_rate)를 동적으로 변경할 때 사용합니다"
   ]
  },
  {
   "cell_type": "code",
   "execution_count": 33,
   "metadata": {},
   "outputs": [],
   "source": [
    "# 에폭 수가 10 미만일 경우는 학습률을 그대로 하고, 10 이상이 되면 -0.1%씩 감소시키는 코드\n",
    "def scheduler(epoch, learning_rate):\n",
    "  if epoch < 10:\n",
    "    return learning_rate\n",
    "  else:\n",
    "    return learning_rate * tf.math.exp(-0.1)"
   ]
  },
  {
   "cell_type": "code",
   "execution_count": 34,
   "metadata": {},
   "outputs": [
    {
     "data": {
      "text/plain": [
       "0.01"
      ]
     },
     "execution_count": 34,
     "metadata": {},
     "output_type": "execute_result"
    }
   ],
   "source": [
    "round(model.optimizer.lr.numpy(), 5)"
   ]
  },
  {
   "cell_type": "code",
   "execution_count": 35,
   "metadata": {},
   "outputs": [
    {
     "data": {
      "text/plain": [
       "0.00607"
      ]
     },
     "execution_count": 35,
     "metadata": {},
     "output_type": "execute_result"
    }
   ],
   "source": [
    "lr_scheduler_cb = callbacks.LearningRateScheduler(scheduler)\n",
    "\n",
    "history = model.fit(x_train, y_train, epochs=15,\n",
    "                    callbacks=[lr_scheduler_cb], verbose=0)\n",
    "\n",
    "round(model.optimizer.lr.numpy(), 5)"
   ]
  },
  {
   "cell_type": "markdown",
   "metadata": {},
   "source": [
    "## 4) Tensorboard\n",
    "- tf.keras.callbacks.TensorBoard: 모델의 경과를 모니터링할 때 사용합니다.\n",
    "- 로컬PC나 colab 등의 환경에서 위의 코드를 그대로 구동한다면 tensorboard 결과를 확인하실 수 있습니다."
   ]
  },
  {
   "cell_type": "code",
   "execution_count": 36,
   "metadata": {},
   "outputs": [
    {
     "name": "stdout",
     "output_type": "stream",
     "text": [
      "Epoch 1/30\n",
      "1313/1313 [==============================] - 6s 5ms/step - loss: 0.0042 - accuracy: 0.9999 - val_loss: 0.1187 - val_accuracy: 0.9737\n",
      "Epoch 2/30\n",
      "1313/1313 [==============================] - 5s 4ms/step - loss: 0.0040 - accuracy: 0.9999 - val_loss: 0.1198 - val_accuracy: 0.9729\n",
      "Epoch 3/30\n",
      "1313/1313 [==============================] - 4s 3ms/step - loss: 0.0039 - accuracy: 0.9999 - val_loss: 0.1198 - val_accuracy: 0.9733\n",
      "Epoch 4/30\n",
      "1313/1313 [==============================] - 4s 3ms/step - loss: 0.0038 - accuracy: 0.9998 - val_loss: 0.1206 - val_accuracy: 0.9733\n",
      "Epoch 5/30\n",
      "1313/1313 [==============================] - 4s 3ms/step - loss: 0.0037 - accuracy: 0.9999 - val_loss: 0.1212 - val_accuracy: 0.9736\n",
      "Epoch 6/30\n",
      "1313/1313 [==============================] - 4s 3ms/step - loss: 0.0035 - accuracy: 0.9999 - val_loss: 0.1217 - val_accuracy: 0.9729\n",
      "Epoch 7/30\n",
      "1313/1313 [==============================] - 4s 3ms/step - loss: 0.0034 - accuracy: 0.9999 - val_loss: 0.1216 - val_accuracy: 0.9735\n",
      "Epoch 8/30\n",
      "1313/1313 [==============================] - 4s 3ms/step - loss: 0.0033 - accuracy: 0.9999 - val_loss: 0.1223 - val_accuracy: 0.9737\n",
      "Epoch 9/30\n",
      "1313/1313 [==============================] - 4s 3ms/step - loss: 0.0032 - accuracy: 0.9999 - val_loss: 0.1223 - val_accuracy: 0.9729\n",
      "Epoch 10/30\n",
      "1313/1313 [==============================] - 4s 3ms/step - loss: 0.0031 - accuracy: 1.0000 - val_loss: 0.1234 - val_accuracy: 0.9731\n",
      "Epoch 11/30\n",
      "1313/1313 [==============================] - 4s 3ms/step - loss: 0.0030 - accuracy: 0.9999 - val_loss: 0.1228 - val_accuracy: 0.9738\n",
      "Epoch 12/30\n",
      "1313/1313 [==============================] - 4s 3ms/step - loss: 0.0030 - accuracy: 1.0000 - val_loss: 0.1246 - val_accuracy: 0.9734\n",
      "Epoch 13/30\n",
      "1313/1313 [==============================] - 4s 3ms/step - loss: 0.0029 - accuracy: 1.0000 - val_loss: 0.1242 - val_accuracy: 0.9738\n",
      "Epoch 14/30\n",
      "1313/1313 [==============================] - 4s 3ms/step - loss: 0.0028 - accuracy: 1.0000 - val_loss: 0.1248 - val_accuracy: 0.9734\n",
      "Epoch 15/30\n",
      "1313/1313 [==============================] - 4s 3ms/step - loss: 0.0027 - accuracy: 1.0000 - val_loss: 0.1250 - val_accuracy: 0.9737\n",
      "Epoch 16/30\n",
      "1313/1313 [==============================] - 4s 3ms/step - loss: 0.0027 - accuracy: 1.0000 - val_loss: 0.1250 - val_accuracy: 0.9735\n",
      "Epoch 17/30\n",
      "1313/1313 [==============================] - 5s 4ms/step - loss: 0.0026 - accuracy: 1.0000 - val_loss: 0.1256 - val_accuracy: 0.9735\n",
      "Epoch 18/30\n",
      "1313/1313 [==============================] - 5s 4ms/step - loss: 0.0025 - accuracy: 1.0000 - val_loss: 0.1273 - val_accuracy: 0.9731\n",
      "Epoch 19/30\n",
      "1313/1313 [==============================] - 5s 4ms/step - loss: 0.0024 - accuracy: 1.0000 - val_loss: 0.1266 - val_accuracy: 0.9734\n",
      "Epoch 20/30\n",
      "1313/1313 [==============================] - 5s 4ms/step - loss: 0.0024 - accuracy: 1.0000 - val_loss: 0.1262 - val_accuracy: 0.9736\n",
      "Epoch 21/30\n",
      "1313/1313 [==============================] - 5s 4ms/step - loss: 0.0023 - accuracy: 1.0000 - val_loss: 0.1281 - val_accuracy: 0.9736\n",
      "Epoch 22/30\n",
      "1313/1313 [==============================] - 5s 4ms/step - loss: 0.0023 - accuracy: 1.0000 - val_loss: 0.1277 - val_accuracy: 0.9737\n",
      "Epoch 23/30\n",
      "1313/1313 [==============================] - 5s 4ms/step - loss: 0.0022 - accuracy: 1.0000 - val_loss: 0.1280 - val_accuracy: 0.9738\n",
      "Epoch 24/30\n",
      "1313/1313 [==============================] - 5s 4ms/step - loss: 0.0022 - accuracy: 1.0000 - val_loss: 0.1287 - val_accuracy: 0.9734\n",
      "Epoch 25/30\n",
      "1313/1313 [==============================] - 5s 4ms/step - loss: 0.0021 - accuracy: 1.0000 - val_loss: 0.1284 - val_accuracy: 0.9732\n",
      "Epoch 26/30\n",
      "1313/1313 [==============================] - 5s 4ms/step - loss: 0.0021 - accuracy: 1.0000 - val_loss: 0.1295 - val_accuracy: 0.9732\n",
      "Epoch 27/30\n",
      "1313/1313 [==============================] - 5s 4ms/step - loss: 0.0020 - accuracy: 1.0000 - val_loss: 0.1294 - val_accuracy: 0.9733\n",
      "Epoch 28/30\n",
      "1313/1313 [==============================] - 5s 4ms/step - loss: 0.0020 - accuracy: 1.0000 - val_loss: 0.1296 - val_accuracy: 0.9737\n",
      "Epoch 29/30\n",
      "1313/1313 [==============================] - 5s 4ms/step - loss: 0.0019 - accuracy: 1.0000 - val_loss: 0.1296 - val_accuracy: 0.9737\n",
      "Epoch 30/30\n",
      "1313/1313 [==============================] - 5s 4ms/step - loss: 0.0019 - accuracy: 1.0000 - val_loss: 0.1310 - val_accuracy: 0.9739\n"
     ]
    },
    {
     "data": {
      "text/plain": [
       "<keras.callbacks.History at 0x7fdd4c191520>"
      ]
     },
     "execution_count": 36,
     "metadata": {},
     "output_type": "execute_result"
    }
   ],
   "source": [
    "log_dir = './logs'\n",
    "tensor_board_cb = [callbacks.TensorBoard(log_dir=log_dir, histogram_freq=1, write_graph=True, write_images=True)]\n",
    "model.fit(x_train, y_train, batch_size=32, validation_data=(x_val, y_val),\n",
    "          epochs=30, callbacks=tensor_board_cb)"
   ]
  },
  {
   "cell_type": "code",
   "execution_count": 41,
   "metadata": {},
   "outputs": [],
   "source": [
    "# %load_ext tensorboard\n",
    "# %tensorboard --logdir {log_dir}"
   ]
  },
  {
   "cell_type": "markdown",
   "metadata": {},
   "source": [
    "---"
   ]
  },
  {
   "cell_type": "markdown",
   "metadata": {},
   "source": [
    "# (예) IMBD 딥러닝 모델"
   ]
  },
  {
   "cell_type": "markdown",
   "metadata": {},
   "source": [
    "## 1) 데이터 로드 및 전처리"
   ]
  },
  {
   "cell_type": "code",
   "execution_count": 1,
   "metadata": {},
   "outputs": [
    {
     "name": "stdout",
     "output_type": "stream",
     "text": [
      "Downloading data from https://storage.googleapis.com/tensorflow/tf-keras-datasets/imdb.npz\n",
      "17465344/17464789 [==============================] - 0s 0us/step\n",
      "17473536/17464789 [==============================] - 0s 0us/step\n",
      "[1, 14, 22, 16, 43, 530, 973, 1622, 1385, 65, 458, 4468, 66, 3941, 4, 173, 36, 256, 5, 25, 100, 43, 838, 112, 50, 670, 2, 9, 35, 480, 284, 5, 150, 4, 172, 112, 167, 2, 336, 385, 39, 4, 172, 4536, 1111, 17, 546, 38, 13, 447, 4, 192, 50, 16, 6, 147, 2025, 19, 14, 22, 4, 1920, 4613, 469, 4, 22, 71, 87, 12, 16, 43, 530, 38, 76, 15, 13, 1247, 4, 22, 17, 515, 17, 12, 16, 626, 18, 2, 5, 62, 386, 12, 8, 316, 8, 106, 5, 4, 2223, 5244, 16, 480, 66, 3785, 33, 4, 130, 12, 16, 38, 619, 5, 25, 124, 51, 36, 135, 48, 25, 1415, 33, 6, 22, 12, 215, 28, 77, 52, 5, 14, 407, 16, 82, 2, 8, 4, 107, 117, 5952, 15, 256, 4, 2, 7, 3766, 5, 723, 36, 71, 43, 530, 476, 26, 400, 317, 46, 7, 4, 2, 1029, 13, 104, 88, 4, 381, 15, 297, 98, 32, 2071, 56, 26, 141, 6, 194, 7486, 18, 4, 226, 22, 21, 134, 476, 26, 480, 5, 144, 30, 5535, 18, 51, 36, 28, 224, 92, 25, 104, 4, 226, 65, 16, 38, 1334, 88, 12, 16, 283, 5, 16, 4472, 113, 103, 32, 15, 16, 5345, 19, 178, 32]\n",
      "1\n"
     ]
    }
   ],
   "source": [
    "from keras.datasets import imdb\n",
    "import numpy as np\n",
    "\n",
    "(train_data, train_labels), (test_data, test_labels) = imdb.load_data(num_words=10000)\n",
    "\n",
    "print(train_data[0])\n",
    "print(train_labels[0])"
   ]
  },
  {
   "cell_type": "code",
   "execution_count": 2,
   "metadata": {},
   "outputs": [
    {
     "name": "stdout",
     "output_type": "stream",
     "text": [
      "Downloading data from https://storage.googleapis.com/tensorflow/tf-keras-datasets/imdb_word_index.json\n",
      "1646592/1641221 [==============================] - 0s 0us/step\n",
      "1654784/1641221 [==============================] - 0s 0us/step\n"
     ]
    }
   ],
   "source": [
    "word_index = imdb.get_word_index()\n",
    "# word_index"
   ]
  },
  {
   "cell_type": "code",
   "execution_count": 3,
   "metadata": {},
   "outputs": [],
   "source": [
    "index_word = dict([(value, key) for (key, value) in word_index.items()])\n",
    "# index_word"
   ]
  },
  {
   "cell_type": "code",
   "execution_count": 4,
   "metadata": {},
   "outputs": [
    {
     "data": {
      "text/plain": [
       "'the'"
      ]
     },
     "execution_count": 4,
     "metadata": {},
     "output_type": "execute_result"
    }
   ],
   "source": [
    "# 1 순위의 출현 빈도를 기록한 단어를 출력합니다.\n",
    "# 키 값의 숫자를 바꿔가며 다른 순위의 단어들도 확인해볼 수 있어요!\n",
    "index_word[1]"
   ]
  },
  {
   "cell_type": "code",
   "execution_count": 5,
   "metadata": {},
   "outputs": [
    {
     "name": "stdout",
     "output_type": "stream",
     "text": [
      "have\n"
     ]
    }
   ],
   "source": [
    "word_25th = index_word[25]\n",
    "print(word_25th)"
   ]
  },
  {
   "cell_type": "code",
   "execution_count": 6,
   "metadata": {},
   "outputs": [
    {
     "data": {
      "text/plain": [
       "'1 14 22 16 43 530 973 1622 1385 65 458 4468 66 3941 4 173 36 256 5 25 100 43 838 112 50 670 2 9 35 480 284 5 150 4 172 112 167 2 336 385 39 4 172 4536 1111 17 546 38 13 447 4 192 50 16 6 147 2025 19 14 22 4 1920 4613 469 4 22 71 87 12 16 43 530 38 76 15 13 1247 4 22 17 515 17 12 16 626 18 2 5 62 386 12 8 316 8 106 5 4 2223 5244 16 480 66 3785 33 4 130 12 16 38 619 5 25 124 51 36 135 48 25 1415 33 6 22 12 215 28 77 52 5 14 407 16 82 2 8 4 107 117 5952 15 256 4 2 7 3766 5 723 36 71 43 530 476 26 400 317 46 7 4 2 1029 13 104 88 4 381 15 297 98 32 2071 56 26 141 6 194 7486 18 4 226 22 21 134 476 26 480 5 144 30 5535 18 51 36 28 224 92 25 104 4 226 65 16 38 1334 88 12 16 283 5 16 4472 113 103 32 15 16 5345 19 178 32'"
      ]
     },
     "execution_count": 6,
     "metadata": {},
     "output_type": "execute_result"
    }
   ],
   "source": [
    "#train_data[0]의 각 인덱스에 매핑되는 단어들로 연결하여 하나의 리뷰를 만들어 줍니다.\n",
    "review = ' '.join([str(i) for i in train_data[0]])\n",
    "review"
   ]
  },
  {
   "cell_type": "code",
   "execution_count": 7,
   "metadata": {},
   "outputs": [
    {
     "data": {
      "text/plain": [
       "\"? this film was just brilliant casting location scenery story direction everyone's really suited the part they played and you could just imagine being there robert ? is an amazing actor and now the same being director ? father came from the same scottish island as myself so i loved the fact there was a real connection with this film the witty remarks throughout the film were great it was just brilliant so much that i bought the film as soon as it was released for ? and would recommend it to everyone to watch and the fly fishing was amazing really cried at the end it was so sad and you know what they say if you cry at a film it must have been good and this definitely was also ? to the two little boy's that played the ? of norman and paul they were just brilliant children are often left out of the ? list i think because the stars that play them all grown up are such a big profile for the whole film but these children are amazing and should be praised for what they have done don't you think the whole story was so lovely because it was true and was someone's life after all that was shared with us all\""
      ]
     },
     "execution_count": 7,
     "metadata": {},
     "output_type": "execute_result"
    }
   ],
   "source": [
    "review = ' '.join([index_word.get(i-3, '?') for i in train_data[0]])\n",
    "review"
   ]
  },
  {
   "cell_type": "code",
   "execution_count": 8,
   "metadata": {},
   "outputs": [
    {
     "name": "stdout",
     "output_type": "stream",
     "text": [
      "[0. 1. 1. ... 0. 0. 0.]\n"
     ]
    }
   ],
   "source": [
    "# 10000 차원을 가지는 원핫힌코딩 처리 \n",
    "def one_hot_encoding(data, dim=10000): # imdb 데이터의 num_words를 10000으로 설정해서 dim도 10000으로 맞춰줍니다.\n",
    "  results = np.zeros((len(data), dim))\n",
    "  for i, d in enumerate(data):\n",
    "    results[i, d] = 1.\n",
    "  return results\n",
    "\n",
    "x_train = one_hot_encoding(train_data)\n",
    "x_test = one_hot_encoding(test_data)\n",
    "\n",
    "print(x_train[0])"
   ]
  },
  {
   "cell_type": "code",
   "execution_count": 9,
   "metadata": {},
   "outputs": [
    {
     "name": "stdout",
     "output_type": "stream",
     "text": [
      "1\n",
      "0\n"
     ]
    }
   ],
   "source": [
    "# IMDB의 레이블은 1은 긍정, 0은 부정으로 정의되어 있는데, 정수형 값을 실수형 값으로 변환을 시켜줍니다.\n",
    "print(train_labels[0])\n",
    "print(test_labels[0])"
   ]
  },
  {
   "cell_type": "code",
   "execution_count": 10,
   "metadata": {},
   "outputs": [
    {
     "name": "stdout",
     "output_type": "stream",
     "text": [
      "1.0\n",
      "0.0\n"
     ]
    }
   ],
   "source": [
    "y_train = np.asarray(train_labels).astype('float32')\n",
    "y_test = np.asarray(test_labels).astype('float32')\n",
    "\n",
    "print(y_train[0])\n",
    "print(y_test[0])"
   ]
  },
  {
   "cell_type": "markdown",
   "metadata": {},
   "source": [
    "## 2) 모델 구성"
   ]
  },
  {
   "cell_type": "code",
   "execution_count": 12,
   "metadata": {},
   "outputs": [],
   "source": [
    "import tensorflow as tf\n",
    "from tensorflow.keras import models, layers\n",
    "\n",
    "model = models.Sequential()\n",
    "model.add(layers.Dense(16, activation='relu', input_shape=(10000, ), name='input'))\n",
    "model.add(layers.Dense(16, activation='relu', name='hidden'))\n",
    "model.add(layers.Dense(1, activation='sigmoid', name='output'))"
   ]
  },
  {
   "cell_type": "markdown",
   "metadata": {},
   "source": [
    "* 첫번째 레이어 : Dense로 유닛 16개를 가지고, 10000차원의 데이터를 받을 수 있다\n",
    "* 두번째 레이어 : Dense로 유닛 16개\n",
    "* 세번째 레이어 : 긍/부 결과만 받도록 유닛 1개만 받는다"
   ]
  },
  {
   "cell_type": "markdown",
   "metadata": {},
   "source": [
    "## 3) 모델 컴파일, 학습"
   ]
  },
  {
   "cell_type": "code",
   "execution_count": 13,
   "metadata": {},
   "outputs": [
    {
     "name": "stdout",
     "output_type": "stream",
     "text": [
      "Model: \"sequential\"\n",
      "_________________________________________________________________\n",
      "Layer (type)                 Output Shape              Param #   \n",
      "=================================================================\n",
      "input (Dense)                (None, 16)                160016    \n",
      "_________________________________________________________________\n",
      "hidden (Dense)               (None, 16)                272       \n",
      "_________________________________________________________________\n",
      "output (Dense)               (None, 1)                 17        \n",
      "=================================================================\n",
      "Total params: 160,305\n",
      "Trainable params: 160,305\n",
      "Non-trainable params: 0\n",
      "_________________________________________________________________\n"
     ]
    }
   ],
   "source": [
    "model.compile(optimizer='rmsprop',\n",
    "              loss='binary_crossentropy',\n",
    "              metrics=['accuracy'])\n",
    "model.summary()"
   ]
  },
  {
   "cell_type": "code",
   "execution_count": 14,
   "metadata": {},
   "outputs": [
    {
     "name": "stdout",
     "output_type": "stream",
     "text": [
      "Epoch 1/20\n",
      "49/49 [==============================] - 6s 102ms/step - loss: 0.4419 - accuracy: 0.8256 - val_loss: 0.3314 - val_accuracy: 0.8791\n",
      "Epoch 2/20\n",
      "49/49 [==============================] - 1s 20ms/step - loss: 0.2556 - accuracy: 0.9106 - val_loss: 0.2849 - val_accuracy: 0.8873\n",
      "Epoch 3/20\n",
      "49/49 [==============================] - 1s 18ms/step - loss: 0.1977 - accuracy: 0.9299 - val_loss: 0.3147 - val_accuracy: 0.8728\n",
      "Epoch 4/20\n",
      "49/49 [==============================] - 1s 19ms/step - loss: 0.1642 - accuracy: 0.9424 - val_loss: 0.3147 - val_accuracy: 0.8774\n",
      "Epoch 5/20\n",
      "49/49 [==============================] - 1s 17ms/step - loss: 0.1428 - accuracy: 0.9493 - val_loss: 0.3149 - val_accuracy: 0.8787\n",
      "Epoch 6/20\n",
      "49/49 [==============================] - 1s 18ms/step - loss: 0.1233 - accuracy: 0.9570 - val_loss: 0.3399 - val_accuracy: 0.8756\n",
      "Epoch 7/20\n",
      "49/49 [==============================] - 1s 18ms/step - loss: 0.1104 - accuracy: 0.9621 - val_loss: 0.3648 - val_accuracy: 0.8717\n",
      "Epoch 8/20\n",
      "49/49 [==============================] - 1s 18ms/step - loss: 0.0980 - accuracy: 0.9666 - val_loss: 0.4344 - val_accuracy: 0.8568\n",
      "Epoch 9/20\n",
      "49/49 [==============================] - 1s 19ms/step - loss: 0.0851 - accuracy: 0.9722 - val_loss: 0.4105 - val_accuracy: 0.8670\n",
      "Epoch 10/20\n",
      "49/49 [==============================] - 1s 18ms/step - loss: 0.0751 - accuracy: 0.9748 - val_loss: 0.4457 - val_accuracy: 0.8661\n",
      "Epoch 11/20\n",
      "49/49 [==============================] - 1s 17ms/step - loss: 0.0638 - accuracy: 0.9804 - val_loss: 0.4803 - val_accuracy: 0.8600\n",
      "Epoch 12/20\n",
      "49/49 [==============================] - 1s 18ms/step - loss: 0.0554 - accuracy: 0.9838 - val_loss: 0.5011 - val_accuracy: 0.8602\n",
      "Epoch 13/20\n",
      "49/49 [==============================] - 1s 17ms/step - loss: 0.0462 - accuracy: 0.9864 - val_loss: 0.5370 - val_accuracy: 0.8585\n",
      "Epoch 14/20\n",
      "49/49 [==============================] - 1s 18ms/step - loss: 0.0411 - accuracy: 0.9886 - val_loss: 0.5805 - val_accuracy: 0.8536\n",
      "Epoch 15/20\n",
      "49/49 [==============================] - 1s 19ms/step - loss: 0.0328 - accuracy: 0.9915 - val_loss: 0.6332 - val_accuracy: 0.8544\n",
      "Epoch 16/20\n",
      "49/49 [==============================] - 1s 17ms/step - loss: 0.0278 - accuracy: 0.9929 - val_loss: 0.7203 - val_accuracy: 0.8422\n",
      "Epoch 17/20\n",
      "49/49 [==============================] - 1s 18ms/step - loss: 0.0238 - accuracy: 0.9938 - val_loss: 0.6877 - val_accuracy: 0.8536\n",
      "Epoch 18/20\n",
      "49/49 [==============================] - 1s 18ms/step - loss: 0.0191 - accuracy: 0.9956 - val_loss: 0.7306 - val_accuracy: 0.8529\n",
      "Epoch 19/20\n",
      "49/49 [==============================] - 1s 17ms/step - loss: 0.0147 - accuracy: 0.9966 - val_loss: 0.8152 - val_accuracy: 0.8493\n",
      "Epoch 20/20\n",
      "49/49 [==============================] - 1s 18ms/step - loss: 0.0140 - accuracy: 0.9965 - val_loss: 0.8293 - val_accuracy: 0.8457\n"
     ]
    }
   ],
   "source": [
    "history = model.fit(x_train, y_train,\n",
    "                    epochs=20,\n",
    "                    batch_size=512,\n",
    "                    validation_data=(x_test, y_test))"
   ]
  },
  {
   "cell_type": "code",
   "execution_count": 15,
   "metadata": {},
   "outputs": [
    {
     "data": {
      "image/png": "[encoded data removed]",
      "text/plain": [
       "<Figure size 864x360 with 2 Axes>"
      ]
     },
     "metadata": {
      "needs_background": "light"
     },
     "output_type": "display_data"
    }
   ],
   "source": [
    "import matplotlib.pyplot as plt\n",
    "\n",
    "history_dict = history.history\n",
    "\n",
    "loss = history_dict['loss']\n",
    "val_loss = history_dict['val_loss']\n",
    "epochs = range(1, len(loss) + 1)\n",
    "\n",
    "fig = plt.figure(figsize=(12, 5))\n",
    "\n",
    "ax1 = fig.add_subplot(1, 2, 1)\n",
    "ax1.plot(epochs, loss, color='blue', label='train_loss')\n",
    "ax1.plot(epochs, val_loss, color='red', label='val_loss')\n",
    "ax1.set_title('Train and Validation Loss')\n",
    "ax1.set_xlabel('Epochs')\n",
    "ax1.set_ylabel('Loss')\n",
    "ax1.grid()\n",
    "ax1.legend()\n",
    "\n",
    "accuracy = history_dict['accuracy']\n",
    "val_accuracy = history_dict['val_accuracy']\n",
    "\n",
    "ax2 = fig.add_subplot(1, 2, 2)\n",
    "ax2.plot(epochs, accuracy, color='blue', label='train_accuracy')\n",
    "ax2.plot(epochs, val_accuracy, color='red', label='val_accuracy')\n",
    "ax2.set_title('Train and Validation Accuracy')\n",
    "ax2.set_xlabel('Epochs')\n",
    "ax2.set_ylabel('Accuracy')\n",
    "ax2.grid()\n",
    "ax2.legend()\n",
    "\n",
    "plt.show()"
   ]
  },
  {
   "cell_type": "markdown",
   "metadata": {},
   "source": [
    "* history에서 loss, val_loss, accuracy, val_accuracy를 차트로 시각화합니다."
   ]
  },
  {
   "cell_type": "code",
   "execution_count": null,
   "metadata": {},
   "outputs": [],
   "source": []
  }
 ],
 "metadata": {
  "kernelspec": {
   "display_name": "Python 3 (ipykernel)",
   "language": "python",
   "name": "python3"
  },
  "language_info": {
   "codemirror_mode": {
    "name": "ipython",
    "version": 3
   },
   "file_extension": ".py",
   "mimetype": "text/x-python",
   "name": "python",
   "nbconvert_exporter": "python",
   "pygments_lexer": "ipython3",
   "version": "3.9.7"
  }
 },
 "nbformat": 4,
 "nbformat_minor": 2
}
